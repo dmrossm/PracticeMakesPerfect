{
 "cells": [
  {
   "cell_type": "markdown",
   "metadata": {},
   "source": [
    "## Homework Week6"
   ]
  },
  {
   "cell_type": "markdown",
   "metadata": {},
   "source": [
    "1. There is a bug in this program. Find, explain & fix.\n",
    "1. Fill the docstrings (python documentation) \n",
    "    * What the function does\n",
    "    * what it expects\n",
    "    * what it returns\n",
    "\n",
    "1. Add a new method to `clear` the ShoppingList class"
   ]
  },
  {
   "cell_type": "code",
   "execution_count": 1,
   "metadata": {},
   "outputs": [],
   "source": [
    "items = []\n",
    "\n",
    "class ShoppingList:\n",
    "    \n",
    "    def __init__(self):\n",
    "        \"\"\"\n",
    "        initializes the class ShoppingList\n",
    "        \"\"\"\n",
    "        \n",
    "    def add_item(self, item):\n",
    "        \"\"\"\n",
    "        adds a method for adding items to shopping list and returns the new length of the list\n",
    "        \"\"\"\n",
    "        items.append(item)\n",
    "        \n",
    "        return len(items)\n",
    "\n",
    "    def remove_item(self, item):\n",
    "        \"\"\"\n",
    "        adds a method for removing items from a shopping list and returns the new length of the list\n",
    "        \"\"\"\n",
    "        items.remove(item)\n",
    "        \n",
    "        return len(items)\n",
    "    \n",
    "    def get_items(self):\n",
    "        \"\"\"\n",
    "        adds a method to shopping list and returns a shopping list's contents\n",
    "        \"\"\"\n",
    "        return items\n",
    "    \n",
    "    def clear(self, items):\n",
    "        \"\"\"\n",
    "        This method fixes the bug. It creates a method for clearing a shopping list, so that when it is called below,\n",
    "        it won't return an error.\n",
    "        \"\"\"\n",
    "        items.clear()\n",
    "    "
   ]
  },
  {
   "cell_type": "code",
   "execution_count": 2,
   "metadata": {},
   "outputs": [],
   "source": [
    "husband = ShoppingList()\n",
    "wife = ShoppingList()"
   ]
  },
  {
   "cell_type": "code",
   "execution_count": 3,
   "metadata": {},
   "outputs": [
    {
     "data": {
      "text/plain": [
       "2"
      ]
     },
     "execution_count": 3,
     "metadata": {},
     "output_type": "execute_result"
    }
   ],
   "source": [
    "husband.add_item('ps5')\n",
    "wife.add_item('dress')"
   ]
  },
  {
   "cell_type": "code",
   "execution_count": 4,
   "metadata": {},
   "outputs": [
    {
     "data": {
      "text/plain": [
       "['ps5', 'dress']"
      ]
     },
     "execution_count": 4,
     "metadata": {},
     "output_type": "execute_result"
    }
   ],
   "source": [
    "husband.get_items()"
   ]
  },
  {
   "cell_type": "code",
   "execution_count": 5,
   "metadata": {},
   "outputs": [
    {
     "data": {
      "text/plain": [
       "['ps5', 'dress']"
      ]
     },
     "execution_count": 5,
     "metadata": {},
     "output_type": "execute_result"
    }
   ],
   "source": [
    "wife.get_items()"
   ]
  },
  {
   "cell_type": "code",
   "execution_count": 6,
   "metadata": {
    "scrolled": true
   },
   "outputs": [
    {
     "data": {
      "text/plain": [
       "'\\nThis was formerly a because the method \"clear\" had not yet been defined. I added the parameter \"items,\"\\nbecause that\\'s how I defined the method above.\\n'"
      ]
     },
     "execution_count": 6,
     "metadata": {},
     "output_type": "execute_result"
    }
   ],
   "source": [
    "husband.clear(items)\n",
    "\"\"\"\n",
    "This was formerly a because the method \"clear\" had not yet been defined. I added the parameter \"items,\"\n",
    "because that's how I defined the method above.\n",
    "\"\"\""
   ]
  },
  {
   "cell_type": "code",
   "execution_count": 7,
   "metadata": {},
   "outputs": [
    {
     "data": {
      "text/plain": [
       "[]"
      ]
     },
     "execution_count": 7,
     "metadata": {},
     "output_type": "execute_result"
    }
   ],
   "source": [
    "husband.get_items() #I added this as a sanity check."
   ]
  }
 ],
 "metadata": {
  "kernelspec": {
   "display_name": "Python 3",
   "language": "python",
   "name": "python3"
  },
  "language_info": {
   "codemirror_mode": {
    "name": "ipython",
    "version": 3
   },
   "file_extension": ".py",
   "mimetype": "text/x-python",
   "name": "python",
   "nbconvert_exporter": "python",
   "pygments_lexer": "ipython3",
   "version": "3.8.5"
  },
  "varInspector": {
   "cols": {
    "lenName": 16,
    "lenType": 16,
    "lenVar": 40
   },
   "kernels_config": {
    "python": {
     "delete_cmd_postfix": "",
     "delete_cmd_prefix": "del ",
     "library": "var_list.py",
     "varRefreshCmd": "print(var_dic_list())"
    },
    "r": {
     "delete_cmd_postfix": ") ",
     "delete_cmd_prefix": "rm(",
     "library": "var_list.r",
     "varRefreshCmd": "cat(var_dic_list()) "
    }
   },
   "types_to_exclude": [
    "module",
    "function",
    "builtin_function_or_method",
    "instance",
    "_Feature"
   ],
   "window_display": false
  }
 },
 "nbformat": 4,
 "nbformat_minor": 2
}
