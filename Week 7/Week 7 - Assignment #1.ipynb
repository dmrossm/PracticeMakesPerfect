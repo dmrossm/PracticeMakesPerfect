{
 "cells": [
  {
   "cell_type": "code",
   "execution_count": 8,
   "metadata": {
    "scrolled": true
   },
   "outputs": [
    {
     "data": {
      "text/html": [
       "<div>\n",
       "<style scoped>\n",
       "    .dataframe tbody tr th:only-of-type {\n",
       "        vertical-align: middle;\n",
       "    }\n",
       "\n",
       "    .dataframe tbody tr th {\n",
       "        vertical-align: top;\n",
       "    }\n",
       "\n",
       "    .dataframe thead th {\n",
       "        text-align: right;\n",
       "    }\n",
       "</style>\n",
       "<table border=\"1\" class=\"dataframe\">\n",
       "  <thead>\n",
       "    <tr style=\"text-align: right;\">\n",
       "      <th></th>\n",
       "      <th>Unnamed: 2</th>\n",
       "      <th>Date</th>\n",
       "      <th>Time</th>\n",
       "    </tr>\n",
       "  </thead>\n",
       "  <tbody>\n",
       "    <tr>\n",
       "      <th>0</th>\n",
       "      <td>27035.0</td>\n",
       "      <td>20210301</td>\n",
       "      <td>00</td>\n",
       "    </tr>\n",
       "    <tr>\n",
       "      <th>1</th>\n",
       "      <td>27069.0</td>\n",
       "      <td>20210301</td>\n",
       "      <td>00</td>\n",
       "    </tr>\n",
       "    <tr>\n",
       "      <th>2</th>\n",
       "      <td>27109.0</td>\n",
       "      <td>20210301</td>\n",
       "      <td>00</td>\n",
       "    </tr>\n",
       "    <tr>\n",
       "      <th>3</th>\n",
       "      <td>27197.0</td>\n",
       "      <td>20210301</td>\n",
       "      <td>00</td>\n",
       "    </tr>\n",
       "    <tr>\n",
       "      <th>4</th>\n",
       "      <td>27248.0</td>\n",
       "      <td>20210301</td>\n",
       "      <td>00</td>\n",
       "    </tr>\n",
       "    <tr>\n",
       "      <th>...</th>\n",
       "      <td>...</td>\n",
       "      <td>...</td>\n",
       "      <td>...</td>\n",
       "    </tr>\n",
       "    <tr>\n",
       "      <th>1995</th>\n",
       "      <td>31407.0</td>\n",
       "      <td>20210307</td>\n",
       "      <td>22</td>\n",
       "    </tr>\n",
       "    <tr>\n",
       "      <th>1996</th>\n",
       "      <td>31228.0</td>\n",
       "      <td>20210307</td>\n",
       "      <td>22</td>\n",
       "    </tr>\n",
       "    <tr>\n",
       "      <th>1997</th>\n",
       "      <td>30989.0</td>\n",
       "      <td>20210307</td>\n",
       "      <td>22</td>\n",
       "    </tr>\n",
       "    <tr>\n",
       "      <th>1998</th>\n",
       "      <td>30704.0</td>\n",
       "      <td>20210307</td>\n",
       "      <td>22</td>\n",
       "    </tr>\n",
       "    <tr>\n",
       "      <th>1999</th>\n",
       "      <td>30572.0</td>\n",
       "      <td>20210307</td>\n",
       "      <td>22</td>\n",
       "    </tr>\n",
       "  </tbody>\n",
       "</table>\n",
       "<p>2000 rows × 3 columns</p>\n",
       "</div>"
      ],
      "text/plain": [
       "      Unnamed: 2      Date Time\n",
       "0        27035.0  20210301   00\n",
       "1        27069.0  20210301   00\n",
       "2        27109.0  20210301   00\n",
       "3        27197.0  20210301   00\n",
       "4        27248.0  20210301   00\n",
       "...          ...       ...  ...\n",
       "1995     31407.0  20210307   22\n",
       "1996     31228.0  20210307   22\n",
       "1997     30989.0  20210307   22\n",
       "1998     30704.0  20210307   22\n",
       "1999     30572.0  20210307   22\n",
       "\n",
       "[2000 rows x 3 columns]"
      ]
     },
     "execution_count": 8,
     "metadata": {},
     "output_type": "execute_result"
    }
   ],
   "source": [
    "import pandas as pd\n",
    "pd.set_option('display.float_format', str) # remove scientific notations\n",
    "\n",
    "def date(date):\n",
    "    date = date[:-8]\n",
    "    return date\n",
    "\n",
    "def time(time):\n",
    "    time = time[8:-6]\n",
    "    return time\n",
    "\n",
    "\n",
    "power_data = pd.read_csv(\"../../../Users/Danielle/Downloads/RollingSystemDemand_20210314_1826.csv\")\n",
    "power_data['ROLLING SYSTEM DEMAND'] = power_data['ROLLING SYSTEM DEMAND'].astype(str)\n",
    "\n",
    "power_data['Date'] = power_data['ROLLING SYSTEM DEMAND'].apply(date)\n",
    "power_data['Time'] = power_data['ROLLING SYSTEM DEMAND'].apply(time)\n",
    "power_data = power_data[['Unnamed: 2',\"Date\",\"Time\"]]\n",
    "power_data = power_data.dropna()\n",
    "\n",
    "\n",
    "\n",
    "power_data.head()\n",
    "power_data_mean = power_data.groupby(['Time'])['Unnamed: 2'].mean().reset_index()\n",
    "power_data"
   ]
  },
  {
   "cell_type": "code",
   "execution_count": 69,
   "metadata": {},
   "outputs": [
    {
     "data": {
      "text/plain": [
       "'3.3.2'"
      ]
     },
     "execution_count": 69,
     "metadata": {},
     "output_type": "execute_result"
    }
   ],
   "source": [
    "import matplotlib\n",
    "import matplotlib.pyplot as plt\n",
    "matplotlib.__version__"
   ]
  },
  {
   "cell_type": "code",
   "execution_count": 12,
   "metadata": {},
   "outputs": [
    {
     "data": {
      "text/plain": [
       "<AxesSubplot:title={'center':'Average Consumption'}>"
      ]
     },
     "execution_count": 12,
     "metadata": {},
     "output_type": "execute_result"
    },
    {
     "data": {
      "image/png": "[encoded data removed]",
      "text/plain": [
       "<Figure size 432x288 with 1 Axes>"
      ]
     },
     "metadata": {
      "needs_background": "light"
     },
     "output_type": "display_data"
    }
   ],
   "source": [
    "power_data_mean.plot(kind=\"bar\", title = \"Average Consumption\")\n"
   ]
  },
  {
   "cell_type": "code",
   "execution_count": 11,
   "metadata": {},
   "outputs": [
    {
     "data": {
      "text/plain": [
       "<AxesSubplot:title={'center':'Hourly Consumption'}>"
      ]
     },
     "execution_count": 11,
     "metadata": {},
     "output_type": "execute_result"
    },
    {
     "data": {
      "image/png": "[encoded data removed]",
      "text/plain": [
       "<Figure size 432x288 with 1 Axes>"
      ]
     },
     "metadata": {
      "needs_background": "light"
     },
     "output_type": "display_data"
    }
   ],
   "source": [
    "power_data.plot(kind=\"bar\", title = \"Hourly Consumption\")"
   ]
  }
 ],
 "metadata": {
  "kernelspec": {
   "display_name": "Python 3",
   "language": "python",
   "name": "python3"
  },
  "language_info": {
   "codemirror_mode": {
    "name": "ipython",
    "version": 3
   },
   "file_extension": ".py",
   "mimetype": "text/x-python",
   "name": "python",
   "nbconvert_exporter": "python",
   "pygments_lexer": "ipython3",
   "version": "3.8.5"
  }
 },
 "nbformat": 4,
 "nbformat_minor": 4
}
