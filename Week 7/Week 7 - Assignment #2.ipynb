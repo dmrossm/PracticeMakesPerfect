{
 "cells": [
  {
   "cell_type": "code",
   "execution_count": 1,
   "metadata": {},
   "outputs": [
    {
     "name": "stdout",
     "output_type": "stream",
     "text": [
      "1\n"
     ]
    }
   ],
   "source": [
    "import random\n",
    "import numpy as np\n",
    "import matplotlib.pyplot as plt\n",
    "import seaborn\n",
    "import pandas\n",
    "\n",
    "def roll_unfair():\n",
    "    unfairDiceDist = (0.15, 0.15, 0.15, 0.15, 0.15, 0.25)\n",
    "    Roll = random.random() \n",
    "    sum = 0\n",
    "    result = 1\n",
    "    for mass in unfairDiceDist:\n",
    "        sum += mass\n",
    "        if Roll < sum:\n",
    "            return result\n",
    "        result+=1\n",
    "\n",
    "print(roll_unfair())"
   ]
  },
  {
   "cell_type": "code",
   "execution_count": 2,
   "metadata": {},
   "outputs": [
    {
     "name": "stdout",
     "output_type": "stream",
     "text": [
      "1\n"
     ]
    }
   ],
   "source": [
    "def roll_fair():\n",
    "    FairDice = []\n",
    "    \n",
    "    for n in range(0,6):\n",
    "        value = (random.randint(0,1))\n",
    "        FairDice.append(value)\n",
    "    \n",
    "    FairDiceDist = tuple(FairDice)\n",
    "\n",
    "\n",
    "    randRoll = random.random() # in [0,1]\n",
    "    sum = 0\n",
    "    result = 1\n",
    "    for mass in FairDiceDist:\n",
    "        sum += mass\n",
    "        if randRoll < sum:\n",
    "            return result\n",
    "        result+=1\n",
    "\n",
    "print(roll_fair())\n",
    "\n"
   ]
  },
  {
   "cell_type": "code",
   "execution_count": 3,
   "metadata": {},
   "outputs": [
    {
     "name": "stdout",
     "output_type": "stream",
     "text": [
      "[1, 1, 1, 5, 3, 1, 1, 4, 1, 1, 1, 1, 2, 5, 1, 3, 1, 1, 2, 4, 2, 1, 2, 2, 2, 1, 3, 1, 1, 1, 3, 1, 4, 2, 2, 1, 1, 1, 2, 1, 1, 1, 3, 1, 1, 3, 5, 2, 4, 1, 1]\n"
     ]
    }
   ],
   "source": [
    "num_rolls=51\n",
    "\n",
    "results = []\n",
    "\n",
    "for k in range(num_rolls):\n",
    "    num = roll_fair()\n",
    "    results.append(num)\n",
    "        \n",
    "print(results)"
   ]
  },
  {
   "cell_type": "code",
   "execution_count": 4,
   "metadata": {},
   "outputs": [
    {
     "data": {
      "text/plain": [
       "1    28\n",
       "2    10\n",
       "3     6\n",
       "4     4\n",
       "5     3\n",
       "Name: Results, dtype: int64"
      ]
     },
     "execution_count": 4,
     "metadata": {},
     "output_type": "execute_result"
    }
   ],
   "source": [
    "from pandas import DataFrame\n",
    "df = DataFrame (results,columns=['Results'])\n",
    "df = df.fillna(0)\n",
    "df = df.Results.value_counts()\n",
    "df"
   ]
  },
  {
   "cell_type": "code",
   "execution_count": 15,
   "metadata": {},
   "outputs": [
    {
     "name": "stdout",
     "output_type": "stream",
     "text": [
      "[4, 6, 6, 5, 6, 5, 6, 6, 6, 2, 3, 4, 6, 5, 5, 3, 4, 5, 5, 5, 6, 1, 2, 5, 5, 6, 6, 3, 6, 4, 1, 6, 6, 1, 3, 3, 2, 6, 3, 6, 6, 1, 4, 5, 1, 4, 3, 5, 6, 1, 3]\n"
     ]
    }
   ],
   "source": [
    "num_unfair_rolls=51\n",
    "\n",
    "unfair_results = []\n",
    "\n",
    "for k in range(num_unfair_rolls):\n",
    "    num = roll_unfair()\n",
    "    unfair_results.append(num)\n",
    "        \n",
    "print(unfair_results)"
   ]
  },
  {
   "cell_type": "code",
   "execution_count": 16,
   "metadata": {},
   "outputs": [
    {
     "data": {
      "text/plain": [
       "6    17\n",
       "5    11\n",
       "3     8\n",
       "4     6\n",
       "1     6\n",
       "2     3\n",
       "Name: Unfair_Results, dtype: int64"
      ]
     },
     "execution_count": 16,
     "metadata": {},
     "output_type": "execute_result"
    }
   ],
   "source": [
    "df_unfair = DataFrame (unfair_results,columns=['Unfair_Results'])\n",
    "df_unfair = df_unfair.fillna(0)\n",
    "df_unfair = df_unfair.Unfair_Results.value_counts()\n",
    "df_unfair"
   ]
  },
  {
   "cell_type": "code",
   "execution_count": 22,
   "metadata": {},
   "outputs": [
    {
     "data": {
      "image/png": "[encoded data removed]",
      "text/plain": [
       "<Figure size 432x288 with 1 Axes>"
      ]
     },
     "metadata": {
      "needs_background": "light"
     },
     "output_type": "display_data"
    }
   ],
   "source": [
    "ax = df.plot.bar(rot=0, title = \"Unfair Dice\")"
   ]
  },
  {
   "cell_type": "code",
   "execution_count": 23,
   "metadata": {},
   "outputs": [
    {
     "data": {
      "image/png": "[encoded data removed]",
      "text/plain": [
       "<Figure size 432x288 with 1 Axes>"
      ]
     },
     "metadata": {
      "needs_background": "light"
     },
     "output_type": "display_data"
    }
   ],
   "source": [
    "ax = df_unfair.plot.bar(rot=0, title = \"Fair Dice\")"
   ]
  }
 ],
 "metadata": {
  "kernelspec": {
   "display_name": "Python 3",
   "language": "python",
   "name": "python3"
  },
  "language_info": {
   "codemirror_mode": {
    "name": "ipython",
    "version": 3
   },
   "file_extension": ".py",
   "mimetype": "text/x-python",
   "name": "python",
   "nbconvert_exporter": "python",
   "pygments_lexer": "ipython3",
   "version": "3.8.5"
  }
 },
 "nbformat": 4,
 "nbformat_minor": 4
}
