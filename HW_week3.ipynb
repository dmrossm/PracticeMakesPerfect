{
 "cells": [
  {
   "cell_type": "code",
   "execution_count": null,
   "metadata": {},
   "outputs": [],
   "source": [
    "## dont touch this cell and assertions after the questions\n",
    "score = {}\n",
    "\n",
    "equality_check = lambda a, b: len(a) == len(b) and all([ x==y for x,y in zip(a,b)])\n",
    "def assertion(question, result, expected):\n",
    "    same = False\n",
    "    try:\n",
    "        if type(result) in (int, str, bool, type(None)):\n",
    "            same = result == expected\n",
    "        else:\n",
    "            same = equality_check(result, expected)\n",
    "    except:\n",
    "        pass\n",
    "    \n",
    "    if question != None and same:\n",
    "        score[question] = True\n",
    "        \n",
    "    print('correct' if same else 'incorrect')"
   ]
  },
  {
   "cell_type": "code",
   "execution_count": null,
   "metadata": {},
   "outputs": [],
   "source": [
    "state_names = [\"Alaska\", \"Alabama\", \"Arkansas\", \"American Samoa\", \"Arizona\", \"California\", \"Colorado\", \"Connecticut\", \"District \", \"of Columbia\", \"Delaware\", \"Florida\", \"Georgia\", \"Guam\", \"Hawaii\", \"Iowa\", \"Idaho\", \"Illinois\", \"Indiana\", \"Kansas\", \"Kentucky\", \"Louisiana\", \"Massachusetts\", \"Maryland\", \"Maine\", \"Michigan\", \"Minnesota\", \"Missouri\", \"Mississippi\", \"Montana\", \"North Carolina\", \"North Dakota\", \"Nebraska\", \"New Hampshire\", \"New Jersey\", \"New Mexico\", \"Nevada\", \"New York\", \"Ohio\", \"Oklahoma\", \"Oregon\", \"Pennsylvania\", \"Puerto Rico\", \"Rhode Island\", \"South Carolina\", \"South Dakota\", \"Tennessee\", \"Texas\", \"Utah\", \"Virginia\", \"Virgin Islands\", \"Vermont\", \"Washington\", \"Wisconsin\", \"West Virginia\", \"Wyoming\"]\n"
   ]
  },
  {
   "cell_type": "markdown",
   "metadata": {},
   "source": [
    "Documenting python code: https://realpython.com/documenting-python-code/\n",
    "\n",
    "Use Only List Comprehensions"
   ]
  },
  {
   "cell_type": "code",
   "execution_count": null,
   "metadata": {},
   "outputs": [],
   "source": [
    "# hw 1\n",
    "def get_states_with_5_letter():\n",
    "    return [state for state in state_names if len(state) == 5]\n",
    "get_states_with_5_letter()\n",
    "    \"\"\"\n",
    "    return states with 5 letters \n",
    "    \"\"\"\n",
    "    pass"
   ]
  },
  {
   "cell_type": "code",
   "execution_count": null,
   "metadata": {},
   "outputs": [],
   "source": [
    "assertion('1', get_states_with_5_letter(), ['Idaho', 'Maine', 'Texas'])"
   ]
  },
  {
   "cell_type": "code",
   "execution_count": null,
   "metadata": {},
   "outputs": [],
   "source": [
    "# hw 2 \n",
    "\n",
    "def get_odd_numbers_from_list(arr):\n",
    "    return [number for number in arr if number%2 != 0]\n",
    "get_odd_numbers_from_list([1,2,3,17])\n",
    "\n",
    "    \"\"\"\n",
    "    return odd numbers from the list\n",
    "    \"\"\"\n",
    "    pass"
   ]
  },
  {
   "cell_type": "code",
   "execution_count": null,
   "metadata": {},
   "outputs": [],
   "source": [
    "assertion('2a', get_odd_numbers_from_list([1,2,3]), [1,3])\n",
    "assertion('2b', get_odd_numbers_from_list([1,2,3, 17]), [1,3, 17])\n",
    "assertion('2c', get_odd_numbers_from_list([]), [])"
   ]
  },
  {
   "cell_type": "code",
   "execution_count": null,
   "metadata": {},
   "outputs": [],
   "source": [
    "# hw 3\n",
    "\n",
    "def contains_value(arr, x):\n",
    "    return any([True if x in arr else False])\n",
    "contains_value([1,2,3], 1)\n",
    "    \"\"\"\n",
    "    checks if passed in list contains value  \n",
    "    \n",
    "    Parameters\n",
    "    ----------\n",
    "    arr : list\n",
    "        List contains vaues\n",
    "    x : int\n",
    "        value to be checked\n",
    "\n",
    "    Returns\n",
    "    -------\n",
    "    bool\n",
    "        \n",
    "    \"\"\"\n",
    "    pass"
   ]
  },
  {
   "cell_type": "code",
   "execution_count": null,
   "metadata": {},
   "outputs": [],
   "source": [
    "assertion('3a', contains_value([1,2,3], 1), True)\n",
    "assertion('3b', contains_value([1,2,3], 4), False)"
   ]
  },
  {
   "cell_type": "code",
   "execution_count": null,
   "metadata": {},
   "outputs": [],
   "source": [
    "# hw 4 \n",
    "\n",
    "def check_if_all_positive(arr):\n",
    "    return all([True if numb%2 ==0 else False for numb in arr ])\n",
    "check_if_all_positive([1,-4,3])\n",
    "\n",
    "    \"\"\"\n",
    "    checks all values in the list are positive\n",
    "    \n",
    "    Parameters\n",
    "    ----------\n",
    "    arr : list\n",
    "        List contains values\n",
    "\n",
    "    Returns\n",
    "    -------\n",
    "    bool\n",
    "    \n",
    "    \"\"\"\n",
    "    pass"
   ]
  },
  {
   "cell_type": "code",
   "execution_count": null,
   "metadata": {},
   "outputs": [],
   "source": [
    "assertion('3a', check_if_all_positive([1,-4,3]), False)\n",
    "assertion('3b', check_if_all_positive([1,2,3]), True)"
   ]
  },
  {
   "cell_type": "code",
   "execution_count": null,
   "metadata": {},
   "outputs": [],
   "source": [
    "# not hw - don't change anything in this block\n",
    "\n",
    " import pandas as pd\n",
    "\n",
    "def get_data():\n",
    "    \"\"\"\n",
    "    get the data\n",
    "    \"\"\"\n",
    "    data = pd.read_csv('https://people.sc.fsu.edu/~jburkardt/data/csv/zillow.csv', index_col=0)\n",
    "    data.columns = [ i.replace('\"', '').strip() for i in data.columns]\n",
    "    \n",
    "    return data\n",
    "\n",
    "def get_zip_code_state_dictionary():\n",
    "    \"\"\"\n",
    "    returns zip code: state dictionary\n",
    "    data is random :)\n",
    "\n",
    "    \"\"\"\n",
    "     d = { zcode: \"MD\" if str(zcode)[4] > '6' else \"VA\" for zcode in [32301, 32303, 32308, 32309, 32310, 32311, 32312] }\n",
    "    return d\n"
   ]
  },
  {
   "cell_type": "code",
   "execution_count": null,
   "metadata": {},
   "outputs": [],
   "source": [
    "# hw 5\n",
    "\n",
    "def get_and_prepare_data(df):\n",
    "    df['State'] = get_zip_code_state_dictionary\n",
    "    \"\"\"\n",
    "    add a column to the table named State with the state information based on zip code\n",
    "    and return the data frame\n",
    "    \"\"\"\n",
    "    zcode_states = get_zip_code_state_dictionary()\n",
    "    # don't change any existing code ----\n",
    "    \n",
    "    \n",
    "    \n",
    "    # ------\n",
    "    \n",
    "    return df"
   ]
  },
  {
   "cell_type": "code",
   "execution_count": null,
   "metadata": {},
   "outputs": [],
   "source": [
    "zillow = get_data()\n",
    "\n",
    "zillow_with_state = get_and_prepare_data(zillow)\n",
    "zillow_with_state.head()"
   ]
  },
  {
   "cell_type": "code",
   "execution_count": null,
   "metadata": {},
   "outputs": [],
   "source": [
    "zc = get_zip_code_state_dictionary()\n",
    "if('State' not in zillow_with_state.columns):\n",
    "    print ('incorrect')\n",
    "else:\n",
    "    assertion('5a', all([ zc[z] == s  for z, s in zip(zillow_with_state['Zip'], zillow_with_state['State'])]), True)"
   ]
  },
  {
   "cell_type": "markdown",
   "metadata": {},
   "source": [
    "## Score Part1"
   ]
  },
  {
   "cell_type": "code",
   "execution_count": null,
   "metadata": {},
   "outputs": [],
   "source": [
    "str(sum(score.values())) + \"/7\""
   ]
  },
  {
   "cell_type": "markdown",
   "metadata": {},
   "source": [
    "## Fake Data"
   ]
  },
  {
   "cell_type": "markdown",
   "metadata": {},
   "source": [
    "1. Email addresses\n",
    "1. Phone numbers\n",
    "1. Home Address\n",
    "1. Person's name\n",
    "1. Year born. Use realistic values.\n",
    "1. Number of kids. Use realistic values.\n",
    "1. Categorical variable: rent or own?\n",
    "1. Annual income. Optional challenge: Use a non-uniform distribution\n",
    "1. Number of speeding tickets in past year. Optional challenge: Use a non-uniform distribution\n",
    "\n",
    "\n",
    "Complete the following method(s). \n",
    "\n",
    "Use libraries to generate fake data"
   ]
  },
  {
   "cell_type": "code",
   "execution_count": null,
   "metadata": {},
   "outputs": [],
   "source": [
    "# you can add additional functions here"
   ]
  },
  {
   "cell_type": "code",
   "execution_count": null,
   "metadata": {},
   "outputs": [],
   "source": [
    "from faker import Faker\n",
    "faker = Faker()\n",
    "\n",
    "def generate_fake_data(row=50):\n",
    "    BMI = []\n",
    "    for b in range(0, 30):\n",
    "        BMI.append(fake_data.BMI())\n",
    "    return BMI\n",
    "    \"\"\"\n",
    "    Generates fake data\n",
    "    \n",
    "    Parameters\n",
    "    ---------\n",
    "    row: int number of rows \n",
    "    \n",
    "    Output: pandas dataframe\n",
    "    \"\"\"\n",
    "    \n",
    "    return None"
   ]
  },
  {
   "cell_type": "code",
   "execution_count": null,
   "metadata": {},
   "outputs": [],
   "source": [
    "df = generate_fake_data(10)\n",
    "df"
   ]
  },
  {
   "cell_type": "code",
   "execution_count": null,
   "metadata": {},
   "outputs": [],
   "source": []
  }
 ],
 "metadata": {
  "kernelspec": {
   "display_name": "Python 3",
   "language": "python",
   "name": "python3"
  },
  "language_info": {
   "codemirror_mode": {
    "name": "ipython",
    "version": 3
   },
   "file_extension": ".py",
   "mimetype": "text/x-python",
   "name": "python",
   "nbconvert_exporter": "python",
   "pygments_lexer": "ipython3",
   "version": "3.8.5"
  },
  "varInspector": {
   "cols": {
    "lenName": 16,
    "lenType": 16,
    "lenVar": 40
   },
   "kernels_config": {
    "python": {
     "delete_cmd_postfix": "",
     "delete_cmd_prefix": "del ",
     "library": "var_list.py",
     "varRefreshCmd": "print(var_dic_list())"
    },
    "r": {
     "delete_cmd_postfix": ") ",
     "delete_cmd_prefix": "rm(",
     "library": "var_list.r",
     "varRefreshCmd": "cat(var_dic_list()) "
    }
   },
   "types_to_exclude": [
    "module",
    "function",
    "builtin_function_or_method",
    "instance",
    "_Feature"
   ],
   "window_display": false
  }
 },
 "nbformat": 4,
 "nbformat_minor": 2
}
