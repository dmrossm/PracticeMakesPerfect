{
 "cells": [
  {
   "cell_type": "code",
   "execution_count": 3,
   "metadata": {},
   "outputs": [],
   "source": [
    "import pandas as pd\n",
    "import numpy as np\n",
    "from faker import Faker\n",
    "import time\n",
    "import string\n",
    "import random"
   ]
  },
  {
   "cell_type": "code",
   "execution_count": 23,
   "metadata": {},
   "outputs": [
    {
     "name": "stdout",
     "output_type": "stream",
     "text": [
      "elapsed 0.02 seconds\n"
     ]
    }
   ],
   "source": [
    "#0.1, 1, 5, 10, 100, 500\n",
    "\n",
    "\n",
    "num_rows = [85, 850, 4250, 8500, 85000, 425000]\n",
    "list_of_dicts=[]\n",
    "\n",
    "# 850 is ~1MB CSV and takes 1.5 seconds; 8500 takes 15 seconds\n",
    "\n",
    "\n",
    "for indx in range(85):\n",
    "    n = np.random.randint(3,25)\n",
    "    alph_num_string = ''.join(random.choices(string.ascii_uppercase +\n",
    "                             string.digits, k = n))\n",
    "    list_of_dicts.append({'A':alph_num_string,\n",
    "                    'B':alph_num_string,\n",
    "                    'C':alph_num_string,\n",
    "                    'D':alph_num_string,\n",
    "                    'E':alph_num_string,\n",
    "                    'F':alph_num_string,\n",
    "                    'G':alph_num_string,\n",
    "                    'H':alph_num_string,\n",
    "                    'I':alph_num_string,\n",
    "                    'J':alph_num_string})\n",
    "    \n",
    "df_text = pd.DataFrame(list_of_dicts)\n",
    "\n",
    "#    print(df_text.head())\n",
    "\n",
    "start_time=time.time()\n",
    "csv_name = \"850_rows.csv\"\n",
    "df_text.to_csv(csv_name)\n",
    "print('elapsed',round(time.time()-start_time,2),'seconds')"
   ]
  },
  {
   "cell_type": "code",
   "execution_count": null,
   "metadata": {},
   "outputs": [],
   "source": [
    "for indx in range(850):\n",
    "    n = np.random.randint(3,25)\n",
    "    alph_num_string = ''.join(random.choices(string.ascii_uppercase +\n",
    "                             string.digits, k = n))\n",
    "    list_of_dicts.append({'A':alph_num_string,\n",
    "                    'B':alph_num_string,\n",
    "                    'C':alph_num_string,\n",
    "                    'D':alph_num_string,\n",
    "                    'E':alph_num_string,\n",
    "                    'F':alph_num_string,\n",
    "                    'G':alph_num_string,\n",
    "                    'H':alph_num_string,\n",
    "                    'I':alph_num_string,\n",
    "                    'J':alph_num_string})\n",
    "    \n",
    "df_text = pd.DataFrame(list_of_dicts)\n",
    "\n",
    "#    print(df_text.head())\n",
    "\n",
    "start_time=time.time()\n",
    "csv_name = \"850_rows.csv\"\n",
    "df_text.to_csv(csv_name)\n",
    "print('elapsed',round(time.time()-start_time,2),'seconds')"
   ]
  },
  {
   "cell_type": "code",
   "execution_count": null,
   "metadata": {},
   "outputs": [],
   "source": [
    "for indx in range(850):\n",
    "    n = np.random.randint(3,25)\n",
    "    alph_num_string = ''.join(random.choices(string.ascii_uppercase +\n",
    "                             string.digits, k = n))\n",
    "    list_of_dicts.append({'A':alph_num_string,\n",
    "                    'B':alph_num_string,\n",
    "                    'C':alph_num_string,\n",
    "                    'D':alph_num_string,\n",
    "                    'E':alph_num_string,\n",
    "                    'F':alph_num_string,\n",
    "                    'G':alph_num_string,\n",
    "                    'H':alph_num_string,\n",
    "                    'I':alph_num_string,\n",
    "                    'J':alph_num_string})\n",
    "    \n",
    "df_text = pd.DataFrame(list_of_dicts)\n",
    "\n",
    "#    print(df_text.head())\n",
    "\n",
    "start_time=time.time()\n",
    "csv_name = \"850_rows.csv\"\n",
    "df_text.to_csv(csv_name)\n",
    "print('elapsed',round(time.time()-start_time,2),'seconds')"
   ]
  }
 ],
 "metadata": {
  "kernelspec": {
   "display_name": "Python 3",
   "language": "python",
   "name": "python3"
  },
  "language_info": {
   "codemirror_mode": {
    "name": "ipython",
    "version": 3
   },
   "file_extension": ".py",
   "mimetype": "text/x-python",
   "name": "python",
   "nbconvert_exporter": "python",
   "pygments_lexer": "ipython3",
   "version": "3.8.5"
  }
 },
 "nbformat": 4,
 "nbformat_minor": 4
}
