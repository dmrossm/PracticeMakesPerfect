{
 "cells": [
  {
   "cell_type": "code",
   "execution_count": 2,
   "metadata": {},
   "outputs": [
    {
     "name": "stdout",
     "output_type": "stream",
     "text": [
      "60\n"
     ]
    }
   ],
   "source": [
    "from faker import Faker\n",
    "import random\n",
    "import numpy as np\n",
    "import pandas as pd\n",
    "print (pd.options.display.max_rows)\n",
    "from datetime import datetime"
   ]
  },
  {
   "cell_type": "code",
   "execution_count": null,
   "metadata": {},
   "outputs": [],
   "source": [
    "def create_fake_data(filename='data.csv', rows=100):\n",
    "    f = Faker()\n",
    "    \n",
    "    today = datetime.today()\n",
    "    year = today.year\n",
    "    \n",
    "    def get_birth_year():\n",
    "        age = int(np.random.normal(1970, 30, 1)[0])\n",
    "        if age > 2005:\n",
    "            return 2005\n",
    "        elif age < 110:\n",
    "            return 100\n",
    "        \n",
    "        return age\n",
    "    \n",
    "    def get_text(length=300):\n",
    "        return length * 'adfafdad;lfkajdk;lfjadlfkjad;lfafadsfljadsklfjelfjdf;oeureoifjaa;ldfja;dlfjefjadlfjadl;fjeiofjadlja;lfjeofieuoifjadlfjad;lfjad;lfjad;lfje;fjadl;fkjeuroiewuflsdjfa;dlsjvdfsdfjadlsfjewioufalidjfaldfkj3riusfuasdjfa;djfasdlfjkldsjfa;ldsfj;adslfjkdas;fjlas,vjddsajfskjdflkajfkladjfalk;fjeoiuroadjvdzvnklvjdlfjadslfjioer8urfjadfajd;fjadfa';\n",
    "        \n",
    "    \n",
    "    with open(filename, 'w') as file:\n",
    "        for i in range(1, rows+1):\n",
    "            name = f.first_name()\n",
    "            lastname = f.last_name()\n",
    "            birthyear = get_birth_year()\n",
    "            age = year - birthyear\n",
    "#             credit_card = f.credit_card()\n",
    "            job = f.job().replace(',', '-')\n",
    "            ssn = f.ssn()\n",
    "            some_data = get_text()\n",
    "\n",
    "            row = f'{name},{lastname},{birthyear},{age},{job},{ssn},{some_data}\\n'\n",
    "            file.write(row)\n",
    "            \n",
    "#            if i % 10000 == 0 or i == rows:\n",
    "#                print(i, '/', rows)\n",
    "                "
   ]
  },
  {
   "cell_type": "code",
   "execution_count": null,
   "metadata": {},
   "outputs": [],
   "source": [
    "create_fake_data(rows=10)\n",
    "# create_fake_data(rows=1000000)"
   ]
  },
  {
   "cell_type": "code",
   "execution_count": null,
   "metadata": {},
   "outputs": [],
   "source": [
    "# !ls"
   ]
  },
  {
   "cell_type": "code",
   "execution_count": null,
   "metadata": {},
   "outputs": [],
   "source": [
    "!head -n 5 data.csv"
   ]
  },
  {
   "cell_type": "code",
   "execution_count": null,
   "metadata": {
    "scrolled": true
   },
   "outputs": [],
   "source": [
    "df = pd.read_csv('data.csv', header=None)"
   ]
  },
  {
   "cell_type": "code",
   "execution_count": null,
   "metadata": {},
   "outputs": [],
   "source": [
    "df"
   ]
  },
  {
   "cell_type": "code",
   "execution_count": null,
   "metadata": {},
   "outputs": [],
   "source": [
    "create_fake_data(filename='data_big.csv', rows=100000)"
   ]
  },
  {
   "cell_type": "code",
   "execution_count": null,
   "metadata": {},
   "outputs": [],
   "source": [
    "# with open('data_big.csv') as file:\n",
    "#     c = 0\n",
    "#     while True:\n",
    "#         c += 1\n",
    "#         line = file.readline()\n",
    "        \n",
    "#         if not line:\n",
    "#             break\n",
    "            \n",
    "#         if c % 100 == 0:\n",
    "#             print('processed', c)"
   ]
  },
  {
   "cell_type": "code",
   "execution_count": null,
   "metadata": {},
   "outputs": [],
   "source": [
    "chunksize = 10 ** 6\n",
    "for chunk in pd.read_csv(\"data.csv\", chunksize=chunksize):\n",
    "    process(chunk)"
   ]
  }
 ],
 "metadata": {
  "kernelspec": {
   "display_name": "Python 3",
   "language": "python",
   "name": "python3"
  },
  "language_info": {
   "codemirror_mode": {
    "name": "ipython",
    "version": 3
   },
   "file_extension": ".py",
   "mimetype": "text/x-python",
   "name": "python",
   "nbconvert_exporter": "python",
   "pygments_lexer": "ipython3",
   "version": "3.8.5"
  },
  "varInspector": {
   "cols": {
    "lenName": 16,
    "lenType": 16,
    "lenVar": 40
   },
   "kernels_config": {
    "python": {
     "delete_cmd_postfix": "",
     "delete_cmd_prefix": "del ",
     "library": "var_list.py",
     "varRefreshCmd": "print(var_dic_list())"
    },
    "r": {
     "delete_cmd_postfix": ") ",
     "delete_cmd_prefix": "rm(",
     "library": "var_list.r",
     "varRefreshCmd": "cat(var_dic_list()) "
    }
   },
   "types_to_exclude": [
    "module",
    "function",
    "builtin_function_or_method",
    "instance",
    "_Feature"
   ],
   "window_display": false
  }
 },
 "nbformat": 4,
 "nbformat_minor": 2
}
