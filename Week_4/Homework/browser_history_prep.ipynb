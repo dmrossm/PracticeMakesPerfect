{
 "cells": [
  {
   "cell_type": "code",
   "execution_count": 1,
   "metadata": {},
   "outputs": [
    {
     "name": "stdout",
     "output_type": "stream",
     "text": [
      "Collecting browserhistory\n",
      "  Downloading browserhistory-0.1.2-py3-none-any.whl (5.1 kB)\n",
      "Installing collected packages: browserhistory\n",
      "Successfully installed browserhistory-0.1.2\n"
     ]
    }
   ],
   "source": [
    "#!pip install browserhistory"
   ]
  },
  {
   "cell_type": "code",
   "execution_count": 4,
   "metadata": {},
   "outputs": [],
   "source": [
    "import browserhistory as bh"
   ]
  },
  {
   "cell_type": "code",
   "execution_count": 6,
   "metadata": {},
   "outputs": [],
   "source": [
    "dict_obj = bh.get_browserhistory()\n",
    "bh.write_browserhistory_csv()"
   ]
  },
  {
   "cell_type": "code",
   "execution_count": 8,
   "metadata": {},
   "outputs": [],
   "source": [
    "import pandas as pd"
   ]
  },
  {
   "cell_type": "code",
   "execution_count": 10,
   "metadata": {},
   "outputs": [],
   "source": [
    "df = pd.read_csv('chrome_history.csv', header=None, names=['Site','Title', 'Time'])"
   ]
  },
  {
   "cell_type": "code",
   "execution_count": 12,
   "metadata": {},
   "outputs": [
    {
     "data": {
      "text/html": [
       "<div>\n",
       "<style scoped>\n",
       "    .dataframe tbody tr th:only-of-type {\n",
       "        vertical-align: middle;\n",
       "    }\n",
       "\n",
       "    .dataframe tbody tr th {\n",
       "        vertical-align: top;\n",
       "    }\n",
       "\n",
       "    .dataframe thead th {\n",
       "        text-align: right;\n",
       "    }\n",
       "</style>\n",
       "<table border=\"1\" class=\"dataframe\">\n",
       "  <thead>\n",
       "    <tr style=\"text-align: right;\">\n",
       "      <th></th>\n",
       "      <th>Site</th>\n",
       "      <th>Title</th>\n",
       "      <th>Time</th>\n",
       "    </tr>\n",
       "  </thead>\n",
       "  <tbody>\n",
       "    <tr>\n",
       "      <th>0</th>\n",
       "      <td>https://www.netflix.com/watch/80191865?trackId...</td>\n",
       "      <td>Netflix</td>\n",
       "      <td>2021-02-18 14:30:39</td>\n",
       "    </tr>\n",
       "    <tr>\n",
       "      <th>1</th>\n",
       "      <td>https://www.netflix.com/browse</td>\n",
       "      <td>Netflix</td>\n",
       "      <td>2021-02-18 14:30:35</td>\n",
       "    </tr>\n",
       "    <tr>\n",
       "      <th>2</th>\n",
       "      <td>https://www.netflix.com/watch/81062068?trackId...</td>\n",
       "      <td>Netflix</td>\n",
       "      <td>2021-02-18 14:30:18</td>\n",
       "    </tr>\n",
       "    <tr>\n",
       "      <th>3</th>\n",
       "      <td>https://www.netflix.com/browse?jbv=80175802</td>\n",
       "      <td>Netflix</td>\n",
       "      <td>2021-02-18 14:29:28</td>\n",
       "    </tr>\n",
       "    <tr>\n",
       "      <th>4</th>\n",
       "      <td>http://www.netflix.com/title/80175802</td>\n",
       "      <td>NaN</td>\n",
       "      <td>2021-02-18 14:29:28</td>\n",
       "    </tr>\n",
       "  </tbody>\n",
       "</table>\n",
       "</div>"
      ],
      "text/plain": [
       "                                                Site    Title  \\\n",
       "0  https://www.netflix.com/watch/80191865?trackId...  Netflix   \n",
       "1                     https://www.netflix.com/browse  Netflix   \n",
       "2  https://www.netflix.com/watch/81062068?trackId...  Netflix   \n",
       "3        https://www.netflix.com/browse?jbv=80175802  Netflix   \n",
       "4              http://www.netflix.com/title/80175802      NaN   \n",
       "\n",
       "                  Time  \n",
       "0  2021-02-18 14:30:39  \n",
       "1  2021-02-18 14:30:35  \n",
       "2  2021-02-18 14:30:18  \n",
       "3  2021-02-18 14:29:28  \n",
       "4  2021-02-18 14:29:28  "
      ]
     },
     "execution_count": 12,
     "metadata": {},
     "output_type": "execute_result"
    }
   ],
   "source": [
    "df.head()"
   ]
  },
  {
   "cell_type": "code",
   "execution_count": 14,
   "metadata": {},
   "outputs": [
    {
     "data": {
      "text/html": [
       "<div>\n",
       "<style scoped>\n",
       "    .dataframe tbody tr th:only-of-type {\n",
       "        vertical-align: middle;\n",
       "    }\n",
       "\n",
       "    .dataframe tbody tr th {\n",
       "        vertical-align: top;\n",
       "    }\n",
       "\n",
       "    .dataframe thead th {\n",
       "        text-align: right;\n",
       "    }\n",
       "</style>\n",
       "<table border=\"1\" class=\"dataframe\">\n",
       "  <thead>\n",
       "    <tr style=\"text-align: right;\">\n",
       "      <th></th>\n",
       "      <th>Site</th>\n",
       "      <th>Title</th>\n",
       "      <th>Time</th>\n",
       "    </tr>\n",
       "  </thead>\n",
       "  <tbody>\n",
       "    <tr>\n",
       "      <th>608</th>\n",
       "      <td>https://www.anaconda.com/</td>\n",
       "      <td>Anaconda | The World's Most Popular Data Scien...</td>\n",
       "      <td>1600-12-31 19:00:00</td>\n",
       "    </tr>\n",
       "    <tr>\n",
       "      <th>609</th>\n",
       "      <td>https://www.applyweb.com/cgi-bin/ustat?formcod...</td>\n",
       "      <td>Activity for Danielle Rossman ( danielle.m.ros...</td>\n",
       "      <td>1600-12-31 19:00:00</td>\n",
       "    </tr>\n",
       "    <tr>\n",
       "      <th>610</th>\n",
       "      <td>https://www.coursera.org/</td>\n",
       "      <td>Coursera | Online Courses &amp; Credentials From T...</td>\n",
       "      <td>1600-12-31 19:00:00</td>\n",
       "    </tr>\n",
       "    <tr>\n",
       "      <th>611</th>\n",
       "      <td>https://www.verywellmind.com/how-to-reference-...</td>\n",
       "      <td>How to Reference Journal Articles in APA Format</td>\n",
       "      <td>1600-12-31 19:00:00</td>\n",
       "    </tr>\n",
       "    <tr>\n",
       "      <th>612</th>\n",
       "      <td>https://www.youtube.com/watch?v=5HLst694D_Y</td>\n",
       "      <td>Git Clone add commit and Push tutorial - YouTube</td>\n",
       "      <td>1600-12-31 19:00:00</td>\n",
       "    </tr>\n",
       "  </tbody>\n",
       "</table>\n",
       "</div>"
      ],
      "text/plain": [
       "                                                  Site  \\\n",
       "608                          https://www.anaconda.com/   \n",
       "609  https://www.applyweb.com/cgi-bin/ustat?formcod...   \n",
       "610                          https://www.coursera.org/   \n",
       "611  https://www.verywellmind.com/how-to-reference-...   \n",
       "612        https://www.youtube.com/watch?v=5HLst694D_Y   \n",
       "\n",
       "                                                 Title                 Time  \n",
       "608  Anaconda | The World's Most Popular Data Scien...  1600-12-31 19:00:00  \n",
       "609  Activity for Danielle Rossman ( danielle.m.ros...  1600-12-31 19:00:00  \n",
       "610  Coursera | Online Courses & Credentials From T...  1600-12-31 19:00:00  \n",
       "611    How to Reference Journal Articles in APA Format  1600-12-31 19:00:00  \n",
       "612   Git Clone add commit and Push tutorial - YouTube  1600-12-31 19:00:00  "
      ]
     },
     "execution_count": 14,
     "metadata": {},
     "output_type": "execute_result"
    }
   ],
   "source": [
    "df.tail()"
   ]
  },
  {
   "cell_type": "code",
   "execution_count": 15,
   "metadata": {},
   "outputs": [
    {
     "data": {
      "text/plain": [
       "Site       0\n",
       "Title    227\n",
       "Time       0\n",
       "dtype: int64"
      ]
     },
     "execution_count": 15,
     "metadata": {},
     "output_type": "execute_result"
    }
   ],
   "source": [
    "df.isna().sum()"
   ]
  },
  {
   "cell_type": "code",
   "execution_count": 16,
   "metadata": {},
   "outputs": [
    {
     "name": "stdout",
     "output_type": "stream",
     "text": [
      "www.example.test\n",
      "www.test.com.eu\n"
     ]
    }
   ],
   "source": [
    "from urllib.parse import urlparse\n",
    "\n",
    "print(urlparse('http://www.example.test/foo/bar').netloc) # --> www.example.test\n",
    "print(urlparse('http://www.test.com.eu/ters').netloc) # --> www.example.test"
   ]
  },
  {
   "cell_type": "code",
   "execution_count": 17,
   "metadata": {},
   "outputs": [],
   "source": [
    "def get_domain(url):\n",
    "    domain = urlparse(url).netloc\n",
    " \n",
    "    return domain"
   ]
  },
  {
   "cell_type": "code",
   "execution_count": 18,
   "metadata": {},
   "outputs": [],
   "source": [
    "df['domain'] = [ get_domain(s)  for s in df['Site'] ]"
   ]
  },
  {
   "cell_type": "code",
   "execution_count": 19,
   "metadata": {},
   "outputs": [],
   "source": [
    "df.drop('Site', axis=1, inplace=True) # drop Site column & update the current df object\n",
    "df.drop('Title', axis=1, inplace=True) # drop Site column & update the current df object"
   ]
  },
  {
   "cell_type": "code",
   "execution_count": 20,
   "metadata": {},
   "outputs": [
    {
     "data": {
      "text/plain": [
       "0           www.netflix.com\n",
       "1           www.netflix.com\n",
       "2           www.netflix.com\n",
       "3           www.netflix.com\n",
       "4           www.netflix.com\n",
       "               ...         \n",
       "608        www.anaconda.com\n",
       "609        www.applyweb.com\n",
       "610        www.coursera.org\n",
       "611    www.verywellmind.com\n",
       "612         www.youtube.com\n",
       "Name: domain, Length: 613, dtype: object"
      ]
     },
     "execution_count": 20,
     "metadata": {},
     "output_type": "execute_result"
    }
   ],
   "source": [
    "df['domain']"
   ]
  },
  {
   "cell_type": "code",
   "execution_count": 24,
   "metadata": {},
   "outputs": [],
   "source": [
    "# write to csv with a different name\n",
    "\n",
    "df.to_csv('history_cleaned.csv', index=False)"
   ]
  },
  {
   "cell_type": "code",
   "execution_count": null,
   "metadata": {},
   "outputs": [],
   "source": []
  }
 ],
 "metadata": {
  "kernelspec": {
   "display_name": "Python 3",
   "language": "python",
   "name": "python3"
  },
  "language_info": {
   "codemirror_mode": {
    "name": "ipython",
    "version": 3
   },
   "file_extension": ".py",
   "mimetype": "text/x-python",
   "name": "python",
   "nbconvert_exporter": "python",
   "pygments_lexer": "ipython3",
   "version": "3.8.5"
  }
 },
 "nbformat": 4,
 "nbformat_minor": 4
}
