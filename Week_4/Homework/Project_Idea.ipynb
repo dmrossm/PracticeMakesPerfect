{
 "cells": [
  {
   "cell_type": "code",
   "execution_count": null,
   "metadata": {},
   "outputs": [],
   "source": [
    "\"\"\"\n",
    "Project Idea Danielle Rossman\n",
    "I'd like to use data from this source Weekly Counts of Deaths by State and Select Causes, 2020-2021 | Data | Centers for Disease Control and Prevention (cdc.gov)\n",
    "\n",
    "This dataset breaks all of 2020 up into weeks and compares causes of death (raw numbers) as the year progresses. The causes of death include natural cause, septicemia, malignant neoplasm, diabetes mellitus, alzheimers disease, influenza and pneumonia, chronic lower respiratory diseases, other diseases of respiratory diseases and COVID-19, as well as about a half a dozen to a dozen other causes of death.  COVID-19 death counts are separated into \"underlying cause\" versus \"multiple cause of death.\" These counts are listed for all of the U.S., as well as state by state.\n",
    "\n",
    "Public health experts believe that the pandemic has caused higher death rates due to other diseases because of the strain placed on the healthcare system and patients' reluctance to seek care for fear of contracting COVID-19.\n",
    "\n",
    "It would like to analyze this dataset to see if this effect may have occurred.  I could just look at the U.S. as a whole and/or compare various regions (groups of states). To simplify the process I could aggregate all of the other causes of death as well.\n",
    "\n",
    "There are a number of different ways I could sort the data and regroup or combine variables. Then maybe I could graph overlying scatter plots and apply linear regression.  If my hypothesis is correct, we may see COVID-19 deaths rise with other causes of death. One complicating factor is that I don't know how much seasonal variation occurs with each disease. Influenza and pneumonia  obviously occur more in the winter for example. This may require me to drop those columns or to use another data set to compare for seasonal variation.\n",
    "\"\"\"\""
   ]
  }
 ],
 "metadata": {
  "kernelspec": {
   "display_name": "Python 3",
   "language": "python",
   "name": "python3"
  },
  "language_info": {
   "codemirror_mode": {
    "name": "ipython",
    "version": 3
   },
   "file_extension": ".py",
   "mimetype": "text/x-python",
   "name": "python",
   "nbconvert_exporter": "python",
   "pygments_lexer": "ipython3",
   "version": "3.8.5"
  }
 },
 "nbformat": 4,
 "nbformat_minor": 4
}
