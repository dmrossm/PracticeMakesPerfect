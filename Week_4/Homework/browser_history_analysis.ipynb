{
 "cells": [
  {
   "cell_type": "code",
   "execution_count": 2,
   "metadata": {},
   "outputs": [],
   "source": [
    "import pandas as pd\n",
    "\n",
    "import matplotlib\n",
    "import matplotlib.pyplot as plt"
   ]
  },
  {
   "cell_type": "code",
   "execution_count": 8,
   "metadata": {},
   "outputs": [
    {
     "data": {
      "text/plain": [
       "(613, 2)"
      ]
     },
     "execution_count": 8,
     "metadata": {},
     "output_type": "execute_result"
    }
   ],
   "source": [
    "df = pd.read_csv(r\"C:\\Users\\Danielle\\Desktop\\history_cleaned.csv\")\n",
    "df.shape"
   ]
  },
  {
   "cell_type": "code",
   "execution_count": 10,
   "metadata": {},
   "outputs": [
    {
     "data": {
      "text/html": [
       "<div>\n",
       "<style scoped>\n",
       "    .dataframe tbody tr th:only-of-type {\n",
       "        vertical-align: middle;\n",
       "    }\n",
       "\n",
       "    .dataframe tbody tr th {\n",
       "        vertical-align: top;\n",
       "    }\n",
       "\n",
       "    .dataframe thead th {\n",
       "        text-align: right;\n",
       "    }\n",
       "</style>\n",
       "<table border=\"1\" class=\"dataframe\">\n",
       "  <thead>\n",
       "    <tr style=\"text-align: right;\">\n",
       "      <th></th>\n",
       "      <th>Time</th>\n",
       "      <th>domain</th>\n",
       "    </tr>\n",
       "  </thead>\n",
       "  <tbody>\n",
       "    <tr>\n",
       "      <th>0</th>\n",
       "      <td>2/18/2021 14:30</td>\n",
       "      <td>www.netflix.com</td>\n",
       "    </tr>\n",
       "    <tr>\n",
       "      <th>1</th>\n",
       "      <td>2/18/2021 14:30</td>\n",
       "      <td>www.netflix.com</td>\n",
       "    </tr>\n",
       "    <tr>\n",
       "      <th>2</th>\n",
       "      <td>2/18/2021 14:30</td>\n",
       "      <td>www.netflix.com</td>\n",
       "    </tr>\n",
       "    <tr>\n",
       "      <th>3</th>\n",
       "      <td>2/18/2021 14:29</td>\n",
       "      <td>www.netflix.com</td>\n",
       "    </tr>\n",
       "    <tr>\n",
       "      <th>4</th>\n",
       "      <td>2/18/2021 14:29</td>\n",
       "      <td>www.netflix.com</td>\n",
       "    </tr>\n",
       "  </tbody>\n",
       "</table>\n",
       "</div>"
      ],
      "text/plain": [
       "              Time           domain\n",
       "0  2/18/2021 14:30  www.netflix.com\n",
       "1  2/18/2021 14:30  www.netflix.com\n",
       "2  2/18/2021 14:30  www.netflix.com\n",
       "3  2/18/2021 14:29  www.netflix.com\n",
       "4  2/18/2021 14:29  www.netflix.com"
      ]
     },
     "execution_count": 10,
     "metadata": {},
     "output_type": "execute_result"
    }
   ],
   "source": [
    "df.head()"
   ]
  },
  {
   "cell_type": "code",
   "execution_count": 11,
   "metadata": {},
   "outputs": [
    {
     "data": {
      "text/html": [
       "<div>\n",
       "<style scoped>\n",
       "    .dataframe tbody tr th:only-of-type {\n",
       "        vertical-align: middle;\n",
       "    }\n",
       "\n",
       "    .dataframe tbody tr th {\n",
       "        vertical-align: top;\n",
       "    }\n",
       "\n",
       "    .dataframe thead th {\n",
       "        text-align: right;\n",
       "    }\n",
       "</style>\n",
       "<table border=\"1\" class=\"dataframe\">\n",
       "  <thead>\n",
       "    <tr style=\"text-align: right;\">\n",
       "      <th></th>\n",
       "      <th>Time</th>\n",
       "      <th>domain</th>\n",
       "    </tr>\n",
       "  </thead>\n",
       "  <tbody>\n",
       "    <tr>\n",
       "      <th>608</th>\n",
       "      <td>1600-12-31 19:00:00</td>\n",
       "      <td>www.anaconda.com</td>\n",
       "    </tr>\n",
       "    <tr>\n",
       "      <th>609</th>\n",
       "      <td>1600-12-31 19:00:00</td>\n",
       "      <td>www.applyweb.com</td>\n",
       "    </tr>\n",
       "    <tr>\n",
       "      <th>610</th>\n",
       "      <td>1600-12-31 19:00:00</td>\n",
       "      <td>www.coursera.org</td>\n",
       "    </tr>\n",
       "    <tr>\n",
       "      <th>611</th>\n",
       "      <td>1600-12-31 19:00:00</td>\n",
       "      <td>www.verywellmind.com</td>\n",
       "    </tr>\n",
       "    <tr>\n",
       "      <th>612</th>\n",
       "      <td>1600-12-31 19:00:00</td>\n",
       "      <td>www.youtube.com</td>\n",
       "    </tr>\n",
       "  </tbody>\n",
       "</table>\n",
       "</div>"
      ],
      "text/plain": [
       "                    Time                domain\n",
       "608  1600-12-31 19:00:00      www.anaconda.com\n",
       "609  1600-12-31 19:00:00      www.applyweb.com\n",
       "610  1600-12-31 19:00:00      www.coursera.org\n",
       "611  1600-12-31 19:00:00  www.verywellmind.com\n",
       "612  1600-12-31 19:00:00       www.youtube.com"
      ]
     },
     "execution_count": 11,
     "metadata": {},
     "output_type": "execute_result"
    }
   ],
   "source": [
    "df.tail()"
   ]
  },
  {
   "cell_type": "code",
   "execution_count": 12,
   "metadata": {},
   "outputs": [
    {
     "data": {
      "text/plain": [
       "Time      object\n",
       "domain    object\n",
       "dtype: object"
      ]
     },
     "execution_count": 12,
     "metadata": {},
     "output_type": "execute_result"
    }
   ],
   "source": [
    "df.dtypes"
   ]
  },
  {
   "cell_type": "code",
   "execution_count": 13,
   "metadata": {},
   "outputs": [
    {
     "data": {
      "text/plain": [
       "19"
      ]
     },
     "execution_count": 13,
     "metadata": {},
     "output_type": "execute_result"
    }
   ],
   "source": [
    "# time column is string and string date is starting with YYYY, so I can do string compares\n",
    "sum(df['Time'] < '1900')"
   ]
  },
  {
   "cell_type": "code",
   "execution_count": 14,
   "metadata": {},
   "outputs": [],
   "source": [
    "# I filter and get a copy, so I will not work on a slice, this will be a new dataframe. (essentially losing 1900 data points)\n",
    "df = df[df.Time > '1900'].copy()"
   ]
  },
  {
   "cell_type": "code",
   "execution_count": 15,
   "metadata": {},
   "outputs": [],
   "source": [
    "df['Time'] = pd.to_datetime(df['Time'])"
   ]
  },
  {
   "cell_type": "code",
   "execution_count": 16,
   "metadata": {},
   "outputs": [
    {
     "data": {
      "text/plain": [
       "blackboard.umbc.edu                   128\n",
       "github.com                             59\n",
       "developer.blackboard.com               45\n",
       "colab.research.google.com              44\n",
       "search.yahoo.com                       34\n",
       "webauth.umbc.edu                       33\n",
       "vimeo.com                              30\n",
       "mail.google.com                        24\n",
       "chatbot.foundations.blackboard.com     23\n",
       "umbc.eesysoft.com                      22\n",
       "www.netflix.com                        14\n",
       "my.umbc.edu                            14\n",
       "umbc.webex.com                         12\n",
       "images.search.yahoo.com                10\n",
       "piazza.com                              8\n",
       "calendly.com                            8\n",
       "us-lti.bbcollab.com                     7\n",
       "www.nasdaq.com                          6\n",
       "accounts.google.com                     6\n",
       "stackoverflow.com                       6\n",
       "www.google.com                          5\n",
       "intuit.zoom.us                          5\n",
       "hangouts.google.com                     4\n",
       "us.bbcollab.com                         4\n",
       "www.geeksforgeeks.org                   4\n",
       "umbc.app.box.com                        3\n",
       "raw.githubusercontent.com               3\n",
       "umbc.account.box.com                    3\n",
       "web.mta.info                            2\n",
       "help.blackboard.com                     2\n",
       "help.netflix.com                        2\n",
       "tutorialdeep.com                        2\n",
       "new.mta.info                            2\n",
       "docs.microsoft.com                      2\n",
       "sso.services.box.net                    2\n",
       "www.zoom.us                             2\n",
       "www.eit.lth.se                          1\n",
       "www.piazza.com                          1\n",
       "desktop.github.com                      1\n",
       "umbc.box.com                            1\n",
       "realpython.com                          1\n",
       "federation.intuit.com                   1\n",
       "accounts.youtube.com                    1\n",
       "en.wikipedia.org                        1\n",
       "www.britannica.com                      1\n",
       "www.askpython.com                       1\n",
       "python-forum.io                         1\n",
       "www.pythoncentral.io                    1\n",
       "www.chegg.com                           1\n",
       "Name: domain, dtype: int64"
      ]
     },
     "execution_count": 16,
     "metadata": {},
     "output_type": "execute_result"
    }
   ],
   "source": [
    "df['domain'].value_counts()[:50]"
   ]
  },
  {
   "cell_type": "code",
   "execution_count": 17,
   "metadata": {},
   "outputs": [
    {
     "data": {
      "text/plain": [
       "<AxesSubplot:>"
      ]
     },
     "execution_count": 17,
     "metadata": {},
     "output_type": "execute_result"
    },
    {
     "data": {
      "image/png": "[encoded data removed]",
      "text/plain": [
       "<Figure size 432x288 with 1 Axes>"
      ]
     },
     "metadata": {
      "needs_background": "light"
     },
     "output_type": "display_data"
    }
   ],
   "source": [
    "# top 10 sites that I visisted\n",
    "df['domain'].value_counts()[:10].plot(kind='bar')"
   ]
  },
  {
   "cell_type": "code",
   "execution_count": 19,
   "metadata": {},
   "outputs": [
    {
     "data": {
      "text/plain": [
       "Time\n",
       "0       3\n",
       "1       7\n",
       "10     18\n",
       "11     21\n",
       "12     13\n",
       "14     14\n",
       "15    151\n",
       "16     47\n",
       "17     45\n",
       "18     60\n",
       "19     74\n",
       "20     20\n",
       "21     41\n",
       "22     33\n",
       "23     47\n",
       "Name: domain, dtype: int64"
      ]
     },
     "execution_count": 19,
     "metadata": {},
     "output_type": "execute_result"
    }
   ],
   "source": [
    "hourly_counts = df.groupby(df.Time.dt.hour).domain.size()\n",
    "hourly_counts"
   ]
  },
  {
   "cell_type": "code",
   "execution_count": 20,
   "metadata": {},
   "outputs": [
    {
     "data": {
      "text/plain": [
       "<AxesSubplot:xlabel='Time'>"
      ]
     },
     "execution_count": 20,
     "metadata": {},
     "output_type": "execute_result"
    },
    {
     "data": {
      "image/png": "[encoded data removed]",
      "text/plain": [
       "<Figure size 432x288 with 1 Axes>"
      ]
     },
     "metadata": {
      "needs_background": "light"
     },
     "output_type": "display_data"
    }
   ],
   "source": [
    "hourly_counts.plot.bar()"
   ]
  },
  {
   "cell_type": "code",
   "execution_count": 21,
   "metadata": {},
   "outputs": [
    {
     "data": {
      "text/html": [
       "<div>\n",
       "<style scoped>\n",
       "    .dataframe tbody tr th:only-of-type {\n",
       "        vertical-align: middle;\n",
       "    }\n",
       "\n",
       "    .dataframe tbody tr th {\n",
       "        vertical-align: top;\n",
       "    }\n",
       "\n",
       "    .dataframe thead th {\n",
       "        text-align: right;\n",
       "    }\n",
       "</style>\n",
       "<table border=\"1\" class=\"dataframe\">\n",
       "  <thead>\n",
       "    <tr style=\"text-align: right;\">\n",
       "      <th></th>\n",
       "      <th>Time</th>\n",
       "      <th>domain</th>\n",
       "      <th>Day</th>\n",
       "      <th>DayIndex</th>\n",
       "    </tr>\n",
       "  </thead>\n",
       "  <tbody>\n",
       "    <tr>\n",
       "      <th>0</th>\n",
       "      <td>2021-02-18 14:30:00</td>\n",
       "      <td>www.netflix.com</td>\n",
       "      <td>Thursday</td>\n",
       "      <td>3</td>\n",
       "    </tr>\n",
       "    <tr>\n",
       "      <th>1</th>\n",
       "      <td>2021-02-18 14:30:00</td>\n",
       "      <td>www.netflix.com</td>\n",
       "      <td>Thursday</td>\n",
       "      <td>3</td>\n",
       "    </tr>\n",
       "    <tr>\n",
       "      <th>2</th>\n",
       "      <td>2021-02-18 14:30:00</td>\n",
       "      <td>www.netflix.com</td>\n",
       "      <td>Thursday</td>\n",
       "      <td>3</td>\n",
       "    </tr>\n",
       "    <tr>\n",
       "      <th>3</th>\n",
       "      <td>2021-02-18 14:29:00</td>\n",
       "      <td>www.netflix.com</td>\n",
       "      <td>Thursday</td>\n",
       "      <td>3</td>\n",
       "    </tr>\n",
       "    <tr>\n",
       "      <th>4</th>\n",
       "      <td>2021-02-18 14:29:00</td>\n",
       "      <td>www.netflix.com</td>\n",
       "      <td>Thursday</td>\n",
       "      <td>3</td>\n",
       "    </tr>\n",
       "  </tbody>\n",
       "</table>\n",
       "</div>"
      ],
      "text/plain": [
       "                 Time           domain       Day  DayIndex\n",
       "0 2021-02-18 14:30:00  www.netflix.com  Thursday         3\n",
       "1 2021-02-18 14:30:00  www.netflix.com  Thursday         3\n",
       "2 2021-02-18 14:30:00  www.netflix.com  Thursday         3\n",
       "3 2021-02-18 14:29:00  www.netflix.com  Thursday         3\n",
       "4 2021-02-18 14:29:00  www.netflix.com  Thursday         3"
      ]
     },
     "execution_count": 21,
     "metadata": {},
     "output_type": "execute_result"
    }
   ],
   "source": [
    "df['Day'] = [ d.day_name() for d in df['Time']]\n",
    "df['DayIndex'] = [ d.dayofweek for d in df['Time']]\n",
    "df.head()"
   ]
  },
  {
   "cell_type": "code",
   "execution_count": 22,
   "metadata": {},
   "outputs": [
    {
     "data": {
      "text/plain": [
       "Wednesday    179\n",
       "Friday       131\n",
       "Tuesday       89\n",
       "Sunday        57\n",
       "Monday        55\n",
       "Saturday      51\n",
       "Thursday      32\n",
       "Name: Day, dtype: int64"
      ]
     },
     "execution_count": 22,
     "metadata": {},
     "output_type": "execute_result"
    }
   ],
   "source": [
    "df['Day'].value_counts()"
   ]
  },
  {
   "cell_type": "code",
   "execution_count": 23,
   "metadata": {},
   "outputs": [
    {
     "data": {
      "text/plain": [
       "0     55\n",
       "1     89\n",
       "2    179\n",
       "3     32\n",
       "4    131\n",
       "5     51\n",
       "6     57\n",
       "Name: DayIndex, dtype: int64"
      ]
     },
     "execution_count": 23,
     "metadata": {},
     "output_type": "execute_result"
    }
   ],
   "source": [
    "days_sorted = df['DayIndex'].value_counts().sort_index()\n",
    "days_sorted"
   ]
  },
  {
   "cell_type": "code",
   "execution_count": 24,
   "metadata": {},
   "outputs": [
    {
     "data": {
      "image/png": "[encoded data removed]",
      "text/plain": [
       "<Figure size 432x288 with 1 Axes>"
      ]
     },
     "metadata": {
      "needs_background": "light"
     },
     "output_type": "display_data"
    }
   ],
   "source": [
    "days_sorted.plot.bar()\n",
    "plt.xticks(days_sorted.index, ['Su','M', 'T', 'W','Th', 'F', 'Sa'], rotation=0)\n",
    "\n",
    "plt.show()"
   ]
  },
  {
   "cell_type": "code",
   "execution_count": 25,
   "metadata": {},
   "outputs": [
    {
     "data": {
      "text/html": [
       "<div>\n",
       "<style scoped>\n",
       "    .dataframe tbody tr th:only-of-type {\n",
       "        vertical-align: middle;\n",
       "    }\n",
       "\n",
       "    .dataframe tbody tr th {\n",
       "        vertical-align: top;\n",
       "    }\n",
       "\n",
       "    .dataframe thead th {\n",
       "        text-align: right;\n",
       "    }\n",
       "</style>\n",
       "<table border=\"1\" class=\"dataframe\">\n",
       "  <thead>\n",
       "    <tr style=\"text-align: right;\">\n",
       "      <th></th>\n",
       "      <th>Time</th>\n",
       "      <th>domain</th>\n",
       "      <th>Day</th>\n",
       "      <th>DayIndex</th>\n",
       "      <th>isWeekend</th>\n",
       "    </tr>\n",
       "  </thead>\n",
       "  <tbody>\n",
       "    <tr>\n",
       "      <th>0</th>\n",
       "      <td>2021-02-18 14:30:00</td>\n",
       "      <td>www.netflix.com</td>\n",
       "      <td>Thursday</td>\n",
       "      <td>3</td>\n",
       "      <td>False</td>\n",
       "    </tr>\n",
       "    <tr>\n",
       "      <th>1</th>\n",
       "      <td>2021-02-18 14:30:00</td>\n",
       "      <td>www.netflix.com</td>\n",
       "      <td>Thursday</td>\n",
       "      <td>3</td>\n",
       "      <td>False</td>\n",
       "    </tr>\n",
       "    <tr>\n",
       "      <th>2</th>\n",
       "      <td>2021-02-18 14:30:00</td>\n",
       "      <td>www.netflix.com</td>\n",
       "      <td>Thursday</td>\n",
       "      <td>3</td>\n",
       "      <td>False</td>\n",
       "    </tr>\n",
       "    <tr>\n",
       "      <th>3</th>\n",
       "      <td>2021-02-18 14:29:00</td>\n",
       "      <td>www.netflix.com</td>\n",
       "      <td>Thursday</td>\n",
       "      <td>3</td>\n",
       "      <td>False</td>\n",
       "    </tr>\n",
       "    <tr>\n",
       "      <th>4</th>\n",
       "      <td>2021-02-18 14:29:00</td>\n",
       "      <td>www.netflix.com</td>\n",
       "      <td>Thursday</td>\n",
       "      <td>3</td>\n",
       "      <td>False</td>\n",
       "    </tr>\n",
       "  </tbody>\n",
       "</table>\n",
       "</div>"
      ],
      "text/plain": [
       "                 Time           domain       Day  DayIndex  isWeekend\n",
       "0 2021-02-18 14:30:00  www.netflix.com  Thursday         3      False\n",
       "1 2021-02-18 14:30:00  www.netflix.com  Thursday         3      False\n",
       "2 2021-02-18 14:30:00  www.netflix.com  Thursday         3      False\n",
       "3 2021-02-18 14:29:00  www.netflix.com  Thursday         3      False\n",
       "4 2021-02-18 14:29:00  www.netflix.com  Thursday         3      False"
      ]
     },
     "execution_count": 25,
     "metadata": {},
     "output_type": "execute_result"
    }
   ],
   "source": [
    "def is_weekend(day): \n",
    "    return day in ['Saturday', 'Sunday']\n",
    "\n",
    "\n",
    "df['isWeekend'] = [ is_weekend(i) for i in df['Day']]\n",
    "df.head()"
   ]
  },
  {
   "cell_type": "code",
   "execution_count": 26,
   "metadata": {},
   "outputs": [],
   "source": [
    "weekend = df[ df['isWeekend'] == True ]\n",
    "\n",
    "weekday = df[ df['isWeekend'] == False ]"
   ]
  },
  {
   "cell_type": "code",
   "execution_count": 27,
   "metadata": {},
   "outputs": [
    {
     "data": {
      "text/html": [
       "<div>\n",
       "<style scoped>\n",
       "    .dataframe tbody tr th:only-of-type {\n",
       "        vertical-align: middle;\n",
       "    }\n",
       "\n",
       "    .dataframe tbody tr th {\n",
       "        vertical-align: top;\n",
       "    }\n",
       "\n",
       "    .dataframe thead th {\n",
       "        text-align: right;\n",
       "    }\n",
       "</style>\n",
       "<table border=\"1\" class=\"dataframe\">\n",
       "  <thead>\n",
       "    <tr style=\"text-align: right;\">\n",
       "      <th></th>\n",
       "      <th>Time</th>\n",
       "      <th>domain</th>\n",
       "      <th>Day</th>\n",
       "      <th>DayIndex</th>\n",
       "      <th>isWeekend</th>\n",
       "    </tr>\n",
       "  </thead>\n",
       "  <tbody>\n",
       "    <tr>\n",
       "      <th>238</th>\n",
       "      <td>2021-02-14 22:29:00</td>\n",
       "      <td>mail.google.com</td>\n",
       "      <td>Sunday</td>\n",
       "      <td>6</td>\n",
       "      <td>True</td>\n",
       "    </tr>\n",
       "    <tr>\n",
       "      <th>239</th>\n",
       "      <td>2021-02-14 22:25:00</td>\n",
       "      <td>blackboard.umbc.edu</td>\n",
       "      <td>Sunday</td>\n",
       "      <td>6</td>\n",
       "      <td>True</td>\n",
       "    </tr>\n",
       "    <tr>\n",
       "      <th>240</th>\n",
       "      <td>2021-02-14 22:24:00</td>\n",
       "      <td>developer.blackboard.com</td>\n",
       "      <td>Sunday</td>\n",
       "      <td>6</td>\n",
       "      <td>True</td>\n",
       "    </tr>\n",
       "    <tr>\n",
       "      <th>241</th>\n",
       "      <td>2021-02-14 22:24:00</td>\n",
       "      <td>chatbot.foundations.blackboard.com</td>\n",
       "      <td>Sunday</td>\n",
       "      <td>6</td>\n",
       "      <td>True</td>\n",
       "    </tr>\n",
       "    <tr>\n",
       "      <th>242</th>\n",
       "      <td>2021-02-14 22:24:00</td>\n",
       "      <td>developer.blackboard.com</td>\n",
       "      <td>Sunday</td>\n",
       "      <td>6</td>\n",
       "      <td>True</td>\n",
       "    </tr>\n",
       "  </tbody>\n",
       "</table>\n",
       "</div>"
      ],
      "text/plain": [
       "                   Time                              domain     Day  DayIndex  \\\n",
       "238 2021-02-14 22:29:00                     mail.google.com  Sunday         6   \n",
       "239 2021-02-14 22:25:00                 blackboard.umbc.edu  Sunday         6   \n",
       "240 2021-02-14 22:24:00            developer.blackboard.com  Sunday         6   \n",
       "241 2021-02-14 22:24:00  chatbot.foundations.blackboard.com  Sunday         6   \n",
       "242 2021-02-14 22:24:00            developer.blackboard.com  Sunday         6   \n",
       "\n",
       "     isWeekend  \n",
       "238       True  \n",
       "239       True  \n",
       "240       True  \n",
       "241       True  \n",
       "242       True  "
      ]
     },
     "execution_count": 27,
     "metadata": {},
     "output_type": "execute_result"
    }
   ],
   "source": [
    "weekend.head()"
   ]
  },
  {
   "cell_type": "code",
   "execution_count": 28,
   "metadata": {},
   "outputs": [
    {
     "data": {
      "text/plain": [
       "blackboard.umbc.edu         108\n",
       "github.com                   55\n",
       "developer.blackboard.com     39\n",
       "webauth.umbc.edu             30\n",
       "vimeo.com                    30\n",
       "Name: domain, dtype: int64"
      ]
     },
     "execution_count": 28,
     "metadata": {},
     "output_type": "execute_result"
    }
   ],
   "source": [
    "weekday['domain'].value_counts()[:5]"
   ]
  },
  {
   "cell_type": "code",
   "execution_count": 29,
   "metadata": {},
   "outputs": [
    {
     "data": {
      "text/plain": [
       "colab.research.google.com    27\n",
       "blackboard.umbc.edu          20\n",
       "search.yahoo.com             11\n",
       "www.nasdaq.com                6\n",
       "developer.blackboard.com      6\n",
       "Name: domain, dtype: int64"
      ]
     },
     "execution_count": 29,
     "metadata": {},
     "output_type": "execute_result"
    }
   ],
   "source": [
    "weekend['domain'].value_counts()[:5]"
   ]
  },
  {
   "cell_type": "code",
   "execution_count": 36,
   "metadata": {},
   "outputs": [
    {
     "data": {
      "image/png": "[encoded data removed]",
      "text/plain": [
       "<Figure size 432x288 with 1 Axes>"
      ]
     },
     "metadata": {
      "needs_background": "light"
     },
     "output_type": "display_data"
    }
   ],
   "source": [
    "def show_stats(df, color, alpha=1):\n",
    "    hourly_counts = df.groupby(df.Time.dt.hour).domain.size()\n",
    "    \n",
    "    # fill in the missing hours\n",
    "    for h in range(24):\n",
    "        if h not in hourly_counts:\n",
    "            hourly_counts[h]=0 # I initially didn't do this and hours were not lining up\n",
    "            \n",
    "    hourly_counts.sort_index().plot.bar(color=color, alpha=alpha)\n",
    "    plt.ylim([0, 175])\n",
    "\n",
    "    \n",
    "show_stats(weekend, 'red', 1)\n",
    "    \n",
    "show_stats(weekday, 'blue', 0.5)"
   ]
  },
  {
   "cell_type": "code",
   "execution_count": 37,
   "metadata": {},
   "outputs": [],
   "source": [
    "# be skeptical about your data!\n",
    "# am I on computer a lot more on the weekdays \n",
    "# or it shows more simply becasue there are more weekdays"
   ]
  },
  {
   "cell_type": "code",
   "execution_count": 42,
   "metadata": {},
   "outputs": [
    {
     "data": {
      "image/png": "[encoded data removed]",
      "text/plain": [
       "<Figure size 432x288 with 1 Axes>"
      ]
     },
     "metadata": {
      "needs_background": "light"
     },
     "output_type": "display_data"
    },
    {
     "data": {
      "image/png": "[encoded data removed]",
      "text/plain": [
       "<Figure size 432x288 with 1 Axes>"
      ]
     },
     "metadata": {
      "needs_background": "light"
     },
     "output_type": "display_data"
    }
   ],
   "source": [
    "def show_stats(df, color, alpha=1, title='', y_lim = None):\n",
    "    hourly_counts = df.groupby(df.Time.dt.hour).domain.size()\n",
    "    \n",
    "    days_counts = df.Time.dt.date.nunique()\n",
    "    \n",
    "    # fill in the missing hours\n",
    "    for h in range(24):\n",
    "        if h not in hourly_counts:\n",
    "            hourly_counts[h]=0 # I initially didn't do this and hours were not lining up\n",
    "        else: \n",
    "            hourly_counts[h] = hourly_counts[h] * 100.0 /  days_counts # I multiplied by 100.0 to make it float and also not to loose decimals\n",
    "            \n",
    "    hourly_counts.sort_index().plot.bar(color=color, alpha=alpha, title=title)\n",
    "    \n",
    "    if y_lim != None:\n",
    "        plt.ylim(y_lim)\n",
    "    plt.show()\n",
    "\n",
    "\n",
    "    \n",
    "y_lim=[0, 2200]\n",
    "show_stats(weekend, 'red', 1, 'Weekend', y_lim=y_lim)\n",
    "    \n",
    "show_stats(weekday, 'blue', 0.5, 'Weekday', y_lim=y_lim)"
   ]
  },
  {
   "cell_type": "code",
   "execution_count": 43,
   "metadata": {},
   "outputs": [
    {
     "data": {
      "text/plain": [
       "blackboard.umbc.edu                   128\n",
       "github.com                             59\n",
       "developer.blackboard.com               45\n",
       "colab.research.google.com              44\n",
       "search.yahoo.com                       34\n",
       "webauth.umbc.edu                       33\n",
       "vimeo.com                              30\n",
       "mail.google.com                        24\n",
       "chatbot.foundations.blackboard.com     23\n",
       "umbc.eesysoft.com                      22\n",
       "www.netflix.com                        14\n",
       "my.umbc.edu                            14\n",
       "umbc.webex.com                         12\n",
       "images.search.yahoo.com                10\n",
       "piazza.com                              8\n",
       "calendly.com                            8\n",
       "us-lti.bbcollab.com                     7\n",
       "www.nasdaq.com                          6\n",
       "accounts.google.com                     6\n",
       "stackoverflow.com                       6\n",
       "www.google.com                          5\n",
       "intuit.zoom.us                          5\n",
       "hangouts.google.com                     4\n",
       "us.bbcollab.com                         4\n",
       "www.geeksforgeeks.org                   4\n",
       "umbc.app.box.com                        3\n",
       "raw.githubusercontent.com               3\n",
       "umbc.account.box.com                    3\n",
       "web.mta.info                            2\n",
       "help.blackboard.com                     2\n",
       "help.netflix.com                        2\n",
       "tutorialdeep.com                        2\n",
       "new.mta.info                            2\n",
       "docs.microsoft.com                      2\n",
       "sso.services.box.net                    2\n",
       "www.zoom.us                             2\n",
       "www.eit.lth.se                          1\n",
       "www.piazza.com                          1\n",
       "desktop.github.com                      1\n",
       "umbc.box.com                            1\n",
       "realpython.com                          1\n",
       "federation.intuit.com                   1\n",
       "accounts.youtube.com                    1\n",
       "en.wikipedia.org                        1\n",
       "www.britannica.com                      1\n",
       "www.askpython.com                       1\n",
       "python-forum.io                         1\n",
       "www.pythoncentral.io                    1\n",
       "www.chegg.com                           1\n",
       "Name: domain, dtype: int64"
      ]
     },
     "execution_count": 43,
     "metadata": {},
     "output_type": "execute_result"
    }
   ],
   "source": [
    "df['domain'].value_counts()[:50]"
   ]
  },
  {
   "cell_type": "code",
   "execution_count": null,
   "metadata": {},
   "outputs": [],
   "source": []
  },
  {
   "cell_type": "code",
   "execution_count": 44,
   "metadata": {},
   "outputs": [],
   "source": [
    "df['domain'] = df['domain'].astype(str)"
   ]
  },
  {
   "cell_type": "code",
   "execution_count": 45,
   "metadata": {},
   "outputs": [],
   "source": [
    "def get_data_for_domain(val):\n",
    "    return df[ [True if val.lower() in i.lower() else False for i in df['domain'] ]]\n",
    "\n",
    "\n",
    "def show_domain_stats(domain, color='blue', alpha=1):\n",
    "    data = get_data_for_domain(domain)\n",
    "    show_stats(data, color, alpha)\n",
    "    return data"
   ]
  },
  {
   "cell_type": "code",
   "execution_count": 47,
   "metadata": {},
   "outputs": [
    {
     "data": {
      "image/png": "[encoded data removed]",
      "text/plain": [
       "<Figure size 432x288 with 1 Axes>"
      ]
     },
     "metadata": {
      "needs_background": "light"
     },
     "output_type": "display_data"
    }
   ],
   "source": [
    "_= show_domain_stats('blackboard', 'blue')"
   ]
  },
  {
   "cell_type": "code",
   "execution_count": null,
   "metadata": {},
   "outputs": [],
   "source": []
  },
  {
   "cell_type": "code",
   "execution_count": 48,
   "metadata": {},
   "outputs": [
    {
     "data": {
      "image/png": "[encoded data removed]",
      "text/plain": [
       "<Figure size 432x288 with 1 Axes>"
      ]
     },
     "metadata": {
      "needs_background": "light"
     },
     "output_type": "display_data"
    }
   ],
   "source": [
    "_ = show_domain_stats('vimeo', 'magenta')"
   ]
  },
  {
   "cell_type": "code",
   "execution_count": 49,
   "metadata": {},
   "outputs": [
    {
     "data": {
      "image/png": "[encoded data removed]",
      "text/plain": [
       "<Figure size 432x288 with 1 Axes>"
      ]
     },
     "metadata": {
      "needs_background": "light"
     },
     "output_type": "display_data"
    }
   ],
   "source": [
    "_ = show_domain_stats('netflix', 'red')"
   ]
  },
  {
   "cell_type": "code",
   "execution_count": 52,
   "metadata": {},
   "outputs": [
    {
     "data": {
      "image/png": "[encoded data removed]",
      "text/plain": [
       "<Figure size 432x288 with 1 Axes>"
      ]
     },
     "metadata": {
      "needs_background": "light"
     },
     "output_type": "display_data"
    }
   ],
   "source": [
    "_=show_domain_stats('mail', 'black')"
   ]
  },
  {
   "cell_type": "code",
   "execution_count": 53,
   "metadata": {},
   "outputs": [
    {
     "data": {
      "text/plain": [
       "'\"\\nBased on data, what can we tell about this person?\\n1)Is this a work computer/personal computer? \\nThis looks like a personal computer. The most visited website is a university webpage. \\nThere are no logins to work accounts.\\n2)Is s/he employed? \\nProbably not, but s/he could have a part-time job or freelance work that\\'s done at certain hours.\\n3)What is her/his interests?\\nBased upon tis data, this person is interested in school, email, the stock market (nasdaq.com),\\nnetflix shows and for some reason the New York City MTA.\\n4)Anything interesting? The visit to the New York City MTA site. During a pandemic, travel is\\nunlikely, thus that\\'s an odd site to visit.\\n\\nDo you give permission for another student to analyze your history_cleaned.csv?\\n(Your name will stay confidencial)\\nYes\\n\\nWhat do you think about this assignment? ( 3 sentences at most! )\\nI liked it. It was a bit hard to pull my csv file from my desktop to my jupyter notebook,\\nso I searched that and figured it out. This exercise gave me a good sense of some data \\nvisualization methods that python offers.\\n'"
      ]
     },
     "execution_count": 53,
     "metadata": {},
     "output_type": "execute_result"
    }
   ],
   "source": [
    "\"\"\"\"\n",
    "Based on data, what can we tell about this person?\n",
    "1)Is this a work computer/personal computer? \n",
    "This looks like a personal computer. The most visited website is a university webpage. \n",
    "There are no logins to work accounts.\n",
    "2)Is s/he employed? \n",
    "Probably not, but s/he could have a part-time job or freelance work that's done at certain hours.\n",
    "3)What is her/his interests?\n",
    "Based upon tis data, this person is interested in school, email, the stock market (nasdaq.com),\n",
    "netflix shows and for some reason the New York City MTA.\n",
    "4)Anything interesting? The visit to the New York City MTA site. During a pandemic, travel is\n",
    "unlikely, thus that's an odd site to visit.\n",
    "\n",
    "Do you give permission for another student to analyze your history_cleaned.csv?\n",
    "(Your name will stay confidencial)\n",
    "Yes\n",
    "\n",
    "What do you think about this assignment? ( 3 sentences at most! )\n",
    "I liked it. It was a bit hard to pull my csv file from my desktop to my jupyter notebook,\n",
    "so I searched that and figured it out. This exercise gave me a good sense of some data \n",
    "visualization methods that python offers.\n",
    "\"\"\""
   ]
  },
  {
   "cell_type": "code",
   "execution_count": null,
   "metadata": {},
   "outputs": [],
   "source": []
  }
 ],
 "metadata": {
  "kernelspec": {
   "display_name": "Python 3",
   "language": "python",
   "name": "python3"
  },
  "language_info": {
   "codemirror_mode": {
    "name": "ipython",
    "version": 3
   },
   "file_extension": ".py",
   "mimetype": "text/x-python",
   "name": "python",
   "nbconvert_exporter": "python",
   "pygments_lexer": "ipython3",
   "version": "3.8.5"
  }
 },
 "nbformat": 4,
 "nbformat_minor": 4
}
