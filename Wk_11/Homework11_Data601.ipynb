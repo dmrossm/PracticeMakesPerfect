{
 "cells": [
  {
   "cell_type": "code",
   "execution_count": 1,
   "metadata": {},
   "outputs": [],
   "source": [
    "import os\n",
    "import codecs\n",
    "import json\n",
    "import re\n",
    "\n",
    "import string"
   ]
  },
  {
   "cell_type": "code",
   "execution_count": 2,
   "metadata": {},
   "outputs": [],
   "source": [
    "location = 'C:/Users/Danielle/Documents/GitHub/PracticeMakesPerfect/'\n",
    "file_types = ['.ipynb']"
   ]
  },
  {
   "cell_type": "code",
   "execution_count": 3,
   "metadata": {},
   "outputs": [],
   "source": [
    "paths = []\n",
    "for root, dirs, files in os.walk(location):\n",
    "    for file in files:\n",
    "        if any([file.endswith(ft) for ft in file_types]):\n",
    "            file_path =  os.path.join(root, file)\n",
    "            # print(file_path)\n",
    "            # print(file)\n",
    "            paths.append((file_path))  \n",
    "\n"
   ]
  },
  {
   "cell_type": "code",
   "execution_count": 4,
   "metadata": {},
   "outputs": [
    {
     "name": "stdout",
     "output_type": "stream",
     "text": [
      "The total number of lines used in my Jupyter notebooks for Data 601 is: 1166\n"
     ]
    },
    {
     "data": {
      "text/plain": [
       "['pandas',\n",
       " 'faker',\n",
       " 'matplotlib.pyplot',\n",
       " 'numpy',\n",
       " 'matplotlib',\n",
       " 'random',\n",
       " 'seaborn',\n",
       " 'os',\n",
       " 'doctest',\n",
       " 'datetime',\n",
       " 'nltk',\n",
       " 'nltk.corpus',\n",
       " 're',\n",
       " 'glob']"
      ]
     },
     "execution_count": 4,
     "metadata": {},
     "output_type": "execute_result"
    }
   ],
   "source": [
    "contents = []\n",
    "lines =[]\n",
    "\n",
    "for file in paths:\n",
    "    f = codecs.open(file, 'r')\n",
    "    content = f.read()\n",
    "    json_content = json.loads(content)\n",
    "    for block in json_content['cells']:\n",
    "        for line in block['source']:\n",
    "            line = str(line)\n",
    "            lines.append(line)\n",
    "            split_content = re.split('\\s+', line)\n",
    "            split_content = [i for i in split_content if i]\n",
    "            string_content = ','.join(split_content)\n",
    "            string_content = str(string_content)\n",
    "            x = re.search('^import|^from', string_content)\n",
    "            if(x!=None):\n",
    "                    content_as_list = string_content.split(',')\n",
    "                    content_as_list = content_as_list[1:2]\n",
    "                    content_as_list = str(content_as_list[0])\n",
    "                    contents.append(content_as_list)\n",
    "                    \n",
    "modules = list(dict.fromkeys(contents))\n",
    "lines_length = len(lines)\n",
    "\n",
    "print('The total number of lines used in my Jupyter notebooks for Data 601 is: ' + str(lines_length))\n",
    "modules"
   ]
  },
  {
   "cell_type": "code",
   "execution_count": null,
   "metadata": {},
   "outputs": [],
   "source": []
  }
 ],
 "metadata": {
  "kernelspec": {
   "display_name": "Python 3",
   "language": "python",
   "name": "python3"
  },
  "language_info": {
   "codemirror_mode": {
    "name": "ipython",
    "version": 3
   },
   "file_extension": ".py",
   "mimetype": "text/x-python",
   "name": "python",
   "nbconvert_exporter": "python",
   "pygments_lexer": "ipython3",
   "version": "3.8.5"
  }
 },
 "nbformat": 4,
 "nbformat_minor": 4
}
