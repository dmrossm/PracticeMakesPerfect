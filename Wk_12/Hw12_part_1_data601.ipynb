{
 "cells": [
  {
   "cell_type": "code",
   "execution_count": 22,
   "metadata": {},
   "outputs": [],
   "source": [
    "import pandas as pd\n",
    "import numpy as np\n",
    "import pickle\n",
    "import matplotlib.pyplot as plt\n",
    "import time\n",
    "import random\n",
    "import string"
   ]
  },
  {
   "cell_type": "code",
   "execution_count": 23,
   "metadata": {},
   "outputs": [],
   "source": [
    "number_of_tests = 3\n",
    "list_of_row_size = [85, 850, 4250, 8500, 85000, 425000]"
   ]
  },
  {
   "cell_type": "code",
   "execution_count": 67,
   "metadata": {},
   "outputs": [
    {
     "name": "stdout",
     "output_type": "stream",
     "text": [
      "elapsed time: 0.001 for 85\n",
      "elapsed time: 0.002 for 85\n",
      "elapsed time: 0.003 for 85\n",
      "elapsed time: 0.004 for 850\n",
      "elapsed time: 0.004 for 850\n",
      "elapsed time: 0.005 for 850\n",
      "elapsed time: 0.006 for 4250\n",
      "elapsed time: 0.007 for 4250\n",
      "elapsed time: 0.008 for 4250\n",
      "elapsed time: 0.009 for 8500\n",
      "elapsed time: 0.01 for 8500\n",
      "elapsed time: 0.01 for 8500\n",
      "elapsed time: 0.012 for 85000\n",
      "elapsed time: 0.015 for 85000\n",
      "elapsed time: 0.017 for 85000\n",
      "elapsed time: 0.018 for 425000\n",
      "elapsed time: 0.019 for 425000\n",
      "elapsed time: 0.02 for 425000\n"
     ]
    }
   ],
   "source": [
    "serial_results={}\n",
    "scaling_start=time.time()\n",
    "tabular_results = pd.DataFrame({\"Row Size\": list_of_row_size, \"Time Elapsed\": elapsed_time})\n",
    "\n",
    "for row_count in list_of_row_size:\n",
    "    test_results=[]\n",
    "    \n",
    "    for test_indx in range(number_of_tests): # run the same experiment multiple times \n",
    "        # create a dataframe with random content of a specified size\n",
    "        # this isn't the section relevant to the scaling measurement, so timing isn't performed\n",
    "        ##df = pd.DataFrame(alpha_num_string, size=(row_count, 10)), columns=list('ABCDEFGHIJ')\n",
    "        # wrap the line of the code we are measuring with timing \n",
    "        n = np.random.randint(3,25)\n",
    "        alph_num_string = ''.join(random.choices(string.ascii_uppercase + string.digits, k = n))\n",
    "        list_of_dicts=[]\n",
    "        list_of_dicts.append({'A':alph_num_string,\n",
    "            'B':alph_num_string,\n",
    "            'C':alph_num_string,\n",
    "            'D':alph_num_string,\n",
    "            'E':alph_num_string,\n",
    "            'F':alph_num_string,\n",
    "            'G':alph_num_string,\n",
    "            'H':alph_num_string,\n",
    "            'I':alph_num_string,\n",
    "            'J':alph_num_string})\n",
    "        df = pd.DataFrame(list_of_dicts)\n",
    "        \n",
    "        start_time = time.time()\n",
    "#       df['K'] = df.apply(double_col_a,axis=1)\n",
    "        test_results.append(time.time() - start_time) # store elapsed time to a list\n",
    "\n",
    "#       after running the experiment multiple times, record the average result to a dictionary\n",
    "        serial_results[row_count]=sum(test_results)/number_of_tests\n",
    "    \n",
    "#       progress indicator as we scale up\n",
    "        print('elapsed time:',round(time.time() - scaling_start, 4),'for',row_count)\n",
    "        elapsed_time = round(time.time() - scaling_start, 4)\n"
   ]
  },
  {
   "cell_type": "code",
   "execution_count": 68,
   "metadata": {},
   "outputs": [
    {
     "data": {
      "text/plain": [
       "{85: 0.0, 850: 0.0, 4250: 0.0, 8500: 0.0, 85000: 0.0, 425000: 0.0}"
      ]
     },
     "execution_count": 68,
     "metadata": {},
     "output_type": "execute_result"
    }
   ],
   "source": [
    "serial_results"
   ]
  },
  {
   "cell_type": "markdown",
   "metadata": {},
   "source": [
    "I can't do anymore on this. I tried, but I got my 2nd dose of the vaccine this week and then got into a car accident two days later. I'm done for tonight/the week."
   ]
  }
 ],
 "metadata": {
  "kernelspec": {
   "display_name": "Python 3",
   "language": "python",
   "name": "python3"
  },
  "language_info": {
   "codemirror_mode": {
    "name": "ipython",
    "version": 3
   },
   "file_extension": ".py",
   "mimetype": "text/x-python",
   "name": "python",
   "nbconvert_exporter": "python",
   "pygments_lexer": "ipython3",
   "version": "3.8.5"
  }
 },
 "nbformat": 4,
 "nbformat_minor": 4
}
