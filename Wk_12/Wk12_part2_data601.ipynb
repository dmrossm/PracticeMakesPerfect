{
 "cells": [
  {
   "cell_type": "code",
   "execution_count": 1,
   "metadata": {},
   "outputs": [
    {
     "name": "stdout",
     "output_type": "stream",
     "text": [
      "Requirement already satisfied: faker in c:\\users\\student\\anaconda3\\lib\\site-packages (8.1.1)\n",
      "Requirement already satisfied: text-unidecode==1.3 in c:\\users\\student\\anaconda3\\lib\\site-packages (from faker) (1.3)\n",
      "Requirement already satisfied: python-dateutil>=2.4 in c:\\users\\student\\anaconda3\\lib\\site-packages (from faker) (2.8.1)\n",
      "Requirement already satisfied: six>=1.5 in c:\\users\\student\\anaconda3\\lib\\site-packages (from python-dateutil>=2.4->faker) (1.15.0)\n",
      "60\n"
     ]
    }
   ],
   "source": [
    "!pip install faker\n",
    "from faker import Faker\n",
    "import random\n",
    "import numpy as np\n",
    "import pandas as pd\n",
    "print (pd.options.display.max_rows)\n",
    "from datetime import datetime"
   ]
  },
  {
   "cell_type": "code",
   "execution_count": null,
   "metadata": {},
   "outputs": [],
   "source": [
    "def create_fake_data(filename='data.csv', rows=100):\n",
    "    f = Faker()\n",
    "    \n",
    "    today = datetime.today()\n",
    "    year = today.year\n",
    "    \n",
    "    def get_birth_year():\n",
    "        age = int(np.random.normal(1970, 30, 1)[0])\n",
    "        if age > 2005:\n",
    "            return 2005\n",
    "        elif age < 110:\n",
    "            return 100\n",
    "        \n",
    "        return age\n",
    "    \n",
    "    def get_text(length=300):\n",
    "        return length * 'adfafdad;lfkajdk;lfjadlfkjad;lfafadsfljadsklfjelfjdf;oeureoifjaa;ldfja;dlfjefjadlfjadl;fjeiofjadlja;lfjeofieuoifjadlfjad;lfjad;lfjad;lfje;fjadl;fkjeuroiewuflsdjfa;dlsjvdfsdfjadlsfjewioufalidjfaldfkj3riusfuasdjfa;djfasdlfjkldsjfa;ldsfj;adslfjkdas;fjlas,vjddsajfskjdflkajfkladjfalk;fjeoiuroadjvdzvnklvjdlfjadslfjioer8urfjadfajd;fjadfa';\n",
    "        \n",
    "    \n",
    "    with open(filename, 'w') as file:\n",
    "        for i in range(1, rows+1):\n",
    "            name = f.first_name()\n",
    "            lastname = f.last_name()\n",
    "            birthyear = get_birth_year()\n",
    "            age = year - birthyear\n",
    "#             credit_card = f.credit_card()\n",
    "            job = f.job().replace(',', '-')\n",
    "            ssn = f.ssn()\n",
    "            some_data = get_text()\n",
    "\n",
    "            row = f'{name},{lastname},{birthyear},{age},{job},{ssn},{some_data}\\n'\n",
    "            file.write(row)\n",
    "            \n",
    "            if i % 10000 == 0 or i == rows:\n",
    "                print(i, '/', rows)\n",
    "                "
   ]
  },
  {
   "cell_type": "code",
   "execution_count": null,
   "metadata": {},
   "outputs": [],
   "source": [
    "create_fake_data(rows=10)\n",
    "# create_fake_data(rows=1000000)"
   ]
  },
  {
   "cell_type": "code",
   "execution_count": null,
   "metadata": {},
   "outputs": [],
   "source": [
    "# !ls"
   ]
  },
  {
   "cell_type": "code",
   "execution_count": null,
   "metadata": {},
   "outputs": [],
   "source": [
    "!head -n 5 data.csv"
   ]
  },
  {
   "cell_type": "code",
   "execution_count": null,
   "metadata": {
    "scrolled": true
   },
   "outputs": [],
   "source": [
    "df = pd.read_csv('data.csv', header=None)"
   ]
  },
  {
   "cell_type": "code",
   "execution_count": null,
   "metadata": {
    "scrolled": true
   },
   "outputs": [],
   "source": [
    "df"
   ]
  },
  {
   "cell_type": "code",
   "execution_count": null,
   "metadata": {},
   "outputs": [],
   "source": [
    "create_fake_data(filename='data_big.csv', rows=100000)"
   ]
  },
  {
   "cell_type": "code",
   "execution_count": 2,
   "metadata": {},
   "outputs": [],
   "source": [
    "df = []\n",
    "\n",
    "for chunk in pd.read_csv(\"data_big.csv\", chunksize = 100000):\n",
    "    chunk = chunk.iloc[:, 3:5]\n",
    "    df.append(chunk)\n",
    "    chunk.to_csv('Age_Occupation.csv', mode = 'a', header = False, index = False)"
   ]
  },
  {
   "cell_type": "code",
   "execution_count": 3,
   "metadata": {
    "scrolled": false
   },
   "outputs": [
    {
     "name": "stdout",
     "output_type": "stream",
     "text": [
      "[        16   Forest/woodland manager\n",
      "0       33  Technical sales engineer\n",
      "1       49    Conservator- furniture\n",
      "2       70         Minerals surveyor\n",
      "3       80       Programmer- systems\n",
      "4       42      Broadcast journalist\n",
      "...    ...                       ...\n",
      "99994   16     Nutritional therapist\n",
      "99995   20              Geoscientist\n",
      "99996  134   Diagnostic radiographer\n",
      "99997   23               Proofreader\n",
      "99998   70  Horticultural consultant\n",
      "\n",
      "[99999 rows x 2 columns]]\n"
     ]
    }
   ],
   "source": [
    "print(df)"
   ]
  },
  {
   "cell_type": "code",
   "execution_count": 17,
   "metadata": {
    "scrolled": true
   },
   "outputs": [
    {
     "data": {
      "text/html": [
       "<div>\n",
       "<style scoped>\n",
       "    .dataframe tbody tr th:only-of-type {\n",
       "        vertical-align: middle;\n",
       "    }\n",
       "\n",
       "    .dataframe tbody tr th {\n",
       "        vertical-align: top;\n",
       "    }\n",
       "\n",
       "    .dataframe thead th {\n",
       "        text-align: right;\n",
       "    }\n",
       "</style>\n",
       "<table border=\"1\" class=\"dataframe\">\n",
       "  <thead>\n",
       "    <tr style=\"text-align: right;\">\n",
       "      <th></th>\n",
       "      <th>Age</th>\n",
       "      <th>Occupation</th>\n",
       "    </tr>\n",
       "  </thead>\n",
       "  <tbody>\n",
       "    <tr>\n",
       "      <th>0</th>\n",
       "      <td>33</td>\n",
       "      <td>Technical sales engineer</td>\n",
       "    </tr>\n",
       "    <tr>\n",
       "      <th>1</th>\n",
       "      <td>49</td>\n",
       "      <td>Conservator- furniture</td>\n",
       "    </tr>\n",
       "    <tr>\n",
       "      <th>2</th>\n",
       "      <td>70</td>\n",
       "      <td>Minerals surveyor</td>\n",
       "    </tr>\n",
       "    <tr>\n",
       "      <th>3</th>\n",
       "      <td>80</td>\n",
       "      <td>Programmer- systems</td>\n",
       "    </tr>\n",
       "    <tr>\n",
       "      <th>4</th>\n",
       "      <td>42</td>\n",
       "      <td>Broadcast journalist</td>\n",
       "    </tr>\n",
       "    <tr>\n",
       "      <th>...</th>\n",
       "      <td>...</td>\n",
       "      <td>...</td>\n",
       "    </tr>\n",
       "    <tr>\n",
       "      <th>99994</th>\n",
       "      <td>16</td>\n",
       "      <td>Nutritional therapist</td>\n",
       "    </tr>\n",
       "    <tr>\n",
       "      <th>99995</th>\n",
       "      <td>20</td>\n",
       "      <td>Geoscientist</td>\n",
       "    </tr>\n",
       "    <tr>\n",
       "      <th>99996</th>\n",
       "      <td>134</td>\n",
       "      <td>Diagnostic radiographer</td>\n",
       "    </tr>\n",
       "    <tr>\n",
       "      <th>99997</th>\n",
       "      <td>23</td>\n",
       "      <td>Proofreader</td>\n",
       "    </tr>\n",
       "    <tr>\n",
       "      <th>99998</th>\n",
       "      <td>70</td>\n",
       "      <td>Horticultural consultant</td>\n",
       "    </tr>\n",
       "  </tbody>\n",
       "</table>\n",
       "<p>99999 rows × 2 columns</p>\n",
       "</div>"
      ],
      "text/plain": [
       "       Age                Occupation\n",
       "0       33  Technical sales engineer\n",
       "1       49    Conservator- furniture\n",
       "2       70         Minerals surveyor\n",
       "3       80       Programmer- systems\n",
       "4       42      Broadcast journalist\n",
       "...    ...                       ...\n",
       "99994   16     Nutritional therapist\n",
       "99995   20              Geoscientist\n",
       "99996  134   Diagnostic radiographer\n",
       "99997   23               Proofreader\n",
       "99998   70  Horticultural consultant\n",
       "\n",
       "[99999 rows x 2 columns]"
      ]
     },
     "execution_count": 17,
     "metadata": {},
     "output_type": "execute_result"
    }
   ],
   "source": [
    "df = pd.read_csv('Age_Occupation.csv', header=None)\n",
    "df.columns = [\"Age\", \"Occupation\"]\n",
    "df"
   ]
  },
  {
   "cell_type": "code",
   "execution_count": 18,
   "metadata": {},
   "outputs": [
    {
     "data": {
      "text/plain": [
       "array([[<AxesSubplot:title={'center':'Age'}>]], dtype=object)"
      ]
     },
     "execution_count": 18,
     "metadata": {},
     "output_type": "execute_result"
    },
    {
     "data": {
      "image/png": "[encoded data removed]",
      "text/plain": [
       "<Figure size 432x288 with 1 Axes>"
      ]
     },
     "metadata": {
      "needs_background": "light"
     },
     "output_type": "display_data"
    }
   ],
   "source": [
    "df.hist(column = \"Age\")"
   ]
  },
  {
   "cell_type": "code",
   "execution_count": 20,
   "metadata": {},
   "outputs": [
    {
     "data": {
      "text/plain": [
       "Teacher- secondary school                 200\n",
       "Designer- ceramics/pottery                191\n",
       "Engineer- communications                  189\n",
       "Ambulance person                          189\n",
       "Futures trader                            189\n",
       "Administrator- Civil Service              188\n",
       "Engineer- agricultural                    187\n",
       "Archivist                                 186\n",
       "Stage manager                             185\n",
       "Leisure centre manager                    185\n",
       "Passenger transport manager               184\n",
       "Quantity surveyor                         184\n",
       "Radio producer                            184\n",
       "Medical sales representative              183\n",
       "Hydrologist                               183\n",
       "Scientist- product/process development    183\n",
       "Charity fundraiser                        182\n",
       "Retail banker                             181\n",
       "Environmental consultant                  181\n",
       "Ceramics designer                         180\n",
       "Name: Occupation, dtype: int64"
      ]
     },
     "execution_count": 20,
     "metadata": {},
     "output_type": "execute_result"
    }
   ],
   "source": [
    "occupation_count = df[\"Occupation\"].value_counts()\n",
    "occupation_count[0:20]\n",
    "#df = pd.DataFrame(occupation_count)\n",
    "#df\n"
   ]
  },
  {
   "cell_type": "code",
   "execution_count": null,
   "metadata": {},
   "outputs": [],
   "source": []
  },
  {
   "cell_type": "code",
   "execution_count": null,
   "metadata": {},
   "outputs": [],
   "source": []
  }
 ],
 "metadata": {
  "kernelspec": {
   "display_name": "Python 3",
   "language": "python",
   "name": "python3"
  },
  "language_info": {
   "codemirror_mode": {
    "name": "ipython",
    "version": 3
   },
   "file_extension": ".py",
   "mimetype": "text/x-python",
   "name": "python",
   "nbconvert_exporter": "python",
   "pygments_lexer": "ipython3",
   "version": "3.8.5"
  },
  "varInspector": {
   "cols": {
    "lenName": 16,
    "lenType": 16,
    "lenVar": 40
   },
   "kernels_config": {
    "python": {
     "delete_cmd_postfix": "",
     "delete_cmd_prefix": "del ",
     "library": "var_list.py",
     "varRefreshCmd": "print(var_dic_list())"
    },
    "r": {
     "delete_cmd_postfix": ") ",
     "delete_cmd_prefix": "rm(",
     "library": "var_list.r",
     "varRefreshCmd": "cat(var_dic_list()) "
    }
   },
   "types_to_exclude": [
    "module",
    "function",
    "builtin_function_or_method",
    "instance",
    "_Feature"
   ],
   "window_display": false
  }
 },
 "nbformat": 4,
 "nbformat_minor": 2
}
