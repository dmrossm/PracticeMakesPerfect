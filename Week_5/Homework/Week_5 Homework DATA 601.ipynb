{
 "cells": [
  {
   "cell_type": "code",
   "execution_count": 1,
   "metadata": {},
   "outputs": [],
   "source": [
    "import pandas as pd\n",
    "\n",
    "import matplotlib\n",
    "import matplotlib.pyplot as plt"
   ]
  },
  {
   "cell_type": "code",
   "execution_count": 2,
   "metadata": {
    "scrolled": true
   },
   "outputs": [
    {
     "data": {
      "text/plain": [
       "(11967, 2)"
      ]
     },
     "execution_count": 2,
     "metadata": {},
     "output_type": "execute_result"
    }
   ],
   "source": [
    "df = pd.read_csv(r\"C:\\Users\\Danielle\\Desktop\\history_cleaned-5.csv\")\n",
    "df.shape"
   ]
  },
  {
   "cell_type": "code",
   "execution_count": 3,
   "metadata": {},
   "outputs": [
    {
     "data": {
      "text/html": [
       "<div>\n",
       "<style scoped>\n",
       "    .dataframe tbody tr th:only-of-type {\n",
       "        vertical-align: middle;\n",
       "    }\n",
       "\n",
       "    .dataframe tbody tr th {\n",
       "        vertical-align: top;\n",
       "    }\n",
       "\n",
       "    .dataframe thead th {\n",
       "        text-align: right;\n",
       "    }\n",
       "</style>\n",
       "<table border=\"1\" class=\"dataframe\">\n",
       "  <thead>\n",
       "    <tr style=\"text-align: right;\">\n",
       "      <th></th>\n",
       "      <th>Time</th>\n",
       "      <th>domain</th>\n",
       "    </tr>\n",
       "  </thead>\n",
       "  <tbody>\n",
       "    <tr>\n",
       "      <th>0</th>\n",
       "      <td>2/19/2021 0:11</td>\n",
       "      <td>github.com</td>\n",
       "    </tr>\n",
       "    <tr>\n",
       "      <th>1</th>\n",
       "      <td>2/19/2021 0:11</td>\n",
       "      <td>github.com</td>\n",
       "    </tr>\n",
       "    <tr>\n",
       "      <th>2</th>\n",
       "      <td>2/19/2021 0:10</td>\n",
       "      <td>github.com</td>\n",
       "    </tr>\n",
       "    <tr>\n",
       "      <th>3</th>\n",
       "      <td>2/19/2021 0:09</td>\n",
       "      <td>github.com</td>\n",
       "    </tr>\n",
       "    <tr>\n",
       "      <th>4</th>\n",
       "      <td>2/19/2021 0:08</td>\n",
       "      <td>github.com</td>\n",
       "    </tr>\n",
       "  </tbody>\n",
       "</table>\n",
       "</div>"
      ],
      "text/plain": [
       "             Time      domain\n",
       "0  2/19/2021 0:11  github.com\n",
       "1  2/19/2021 0:11  github.com\n",
       "2  2/19/2021 0:10  github.com\n",
       "3  2/19/2021 0:09  github.com\n",
       "4  2/19/2021 0:08  github.com"
      ]
     },
     "execution_count": 3,
     "metadata": {},
     "output_type": "execute_result"
    }
   ],
   "source": [
    "df.head()"
   ]
  },
  {
   "cell_type": "code",
   "execution_count": 4,
   "metadata": {},
   "outputs": [
    {
     "data": {
      "text/html": [
       "<div>\n",
       "<style scoped>\n",
       "    .dataframe tbody tr th:only-of-type {\n",
       "        vertical-align: middle;\n",
       "    }\n",
       "\n",
       "    .dataframe tbody tr th {\n",
       "        vertical-align: top;\n",
       "    }\n",
       "\n",
       "    .dataframe thead th {\n",
       "        text-align: right;\n",
       "    }\n",
       "</style>\n",
       "<table border=\"1\" class=\"dataframe\">\n",
       "  <thead>\n",
       "    <tr style=\"text-align: right;\">\n",
       "      <th></th>\n",
       "      <th>Time</th>\n",
       "      <th>domain</th>\n",
       "    </tr>\n",
       "  </thead>\n",
       "  <tbody>\n",
       "    <tr>\n",
       "      <th>11962</th>\n",
       "      <td>1600-12-31 19:00:00</td>\n",
       "      <td>www.khanacademy.org</td>\n",
       "    </tr>\n",
       "    <tr>\n",
       "      <th>11963</th>\n",
       "      <td>1600-12-31 19:00:00</td>\n",
       "      <td>stanford.edu</td>\n",
       "    </tr>\n",
       "    <tr>\n",
       "      <th>11964</th>\n",
       "      <td>1600-12-31 19:00:00</td>\n",
       "      <td>extensiongallery.tableau.com</td>\n",
       "    </tr>\n",
       "    <tr>\n",
       "      <th>11965</th>\n",
       "      <td>1600-12-31 19:00:00</td>\n",
       "      <td>www.facebook.com</td>\n",
       "    </tr>\n",
       "    <tr>\n",
       "      <th>11966</th>\n",
       "      <td>1600-12-31 19:00:00</td>\n",
       "      <td>www.airbnb.co.in</td>\n",
       "    </tr>\n",
       "  </tbody>\n",
       "</table>\n",
       "</div>"
      ],
      "text/plain": [
       "                      Time                        domain\n",
       "11962  1600-12-31 19:00:00           www.khanacademy.org\n",
       "11963  1600-12-31 19:00:00                  stanford.edu\n",
       "11964  1600-12-31 19:00:00  extensiongallery.tableau.com\n",
       "11965  1600-12-31 19:00:00              www.facebook.com\n",
       "11966  1600-12-31 19:00:00              www.airbnb.co.in"
      ]
     },
     "execution_count": 4,
     "metadata": {},
     "output_type": "execute_result"
    }
   ],
   "source": [
    "df.tail()"
   ]
  },
  {
   "cell_type": "code",
   "execution_count": 5,
   "metadata": {},
   "outputs": [
    {
     "data": {
      "text/plain": [
       "Time      object\n",
       "domain    object\n",
       "dtype: object"
      ]
     },
     "execution_count": 5,
     "metadata": {},
     "output_type": "execute_result"
    }
   ],
   "source": [
    "df.dtypes"
   ]
  },
  {
   "cell_type": "code",
   "execution_count": 6,
   "metadata": {},
   "outputs": [
    {
     "data": {
      "text/plain": [
       "8260"
      ]
     },
     "execution_count": 6,
     "metadata": {},
     "output_type": "execute_result"
    }
   ],
   "source": [
    "# time column is string and string date is starting with YYYY, so I can do string compares\n",
    "sum(df['Time'] < '1900')"
   ]
  },
  {
   "cell_type": "code",
   "execution_count": 7,
   "metadata": {},
   "outputs": [],
   "source": [
    "# I filter and get a copy, so I will not work on a slice, this will be a new dataframe. (essentially losing 1900 data points)\n",
    "df = df[df.Time > '1900'].copy()"
   ]
  },
  {
   "cell_type": "code",
   "execution_count": 8,
   "metadata": {},
   "outputs": [],
   "source": [
    "df['Time'] = pd.to_datetime(df['Time'])"
   ]
  },
  {
   "cell_type": "code",
   "execution_count": 9,
   "metadata": {},
   "outputs": [
    {
     "data": {
      "text/plain": [
       "www.google.com                       616\n",
       "www.instagram.com                    394\n",
       "stackoverflow.com                    245\n",
       "www.youtube.com                      197\n",
       "www.amazon.com                       148\n",
       "mail.google.com                      145\n",
       "blackboard.umbc.edu                  122\n",
       "colab.research.google.com            117\n",
       "github.com                           105\n",
       "webauth.umbc.edu                      99\n",
       "piazza.com                            73\n",
       "docs.google.com                       67\n",
       "lucid.app                             58\n",
       "www.hackerrank.com                    53\n",
       "www.geeksforgeeks.org                 51\n",
       "drive.google.com                      39\n",
       "www.kaggle.com                        29\n",
       "accounts.google.com                   29\n",
       "umbc.app.box.com                      26\n",
       "www.facebook.com                      23\n",
       "retail.onlinesbi.com                  21\n",
       "archive.ics.uci.edu                   20\n",
       "towardsdatascience.com                18\n",
       "id.analyticsvidhya.com                17\n",
       "datahack.analyticsvidhya.com          16\n",
       "leetcode.com                          15\n",
       "duckduckgo.com                        15\n",
       "datasetsearch.research.google.com     14\n",
       "gogoanime.sh                          14\n",
       "www.onlinebanking.pnc.com             14\n",
       "app.brazenconnect.com                 14\n",
       "umbc.webex.com                        13\n",
       "hangouts.google.com                   12\n",
       "my3.my.umbc.edu                       12\n",
       "www.primevideo.com                    12\n",
       "umbc.box.com                          12\n",
       "medium.com                            12\n",
       "public.tableau.com                    12\n",
       "www.codegrepper.com                   12\n",
       "onmarshtompor.com                     12\n",
       "umbc-csm.symplicity.com               12\n",
       "www.tutorialspoint.com                12\n",
       "www.xspdf.com                         11\n",
       "my.umbc.edu                           11\n",
       "www.w3resource.com                    11\n",
       "blackclover.fandom.com                11\n",
       "pandas.pydata.org                     10\n",
       "getbitly.com                          10\n",
       "umbc2021springfair.vfairs.com         10\n",
       "docs.microsoft.com                    10\n",
       "Name: domain, dtype: int64"
      ]
     },
     "execution_count": 9,
     "metadata": {},
     "output_type": "execute_result"
    }
   ],
   "source": [
    "df['domain'].value_counts()[:50]"
   ]
  },
  {
   "cell_type": "code",
   "execution_count": 10,
   "metadata": {},
   "outputs": [
    {
     "data": {
      "text/plain": [
       "<AxesSubplot:>"
      ]
     },
     "execution_count": 10,
     "metadata": {},
     "output_type": "execute_result"
    },
    {
     "data": {
      "image/png": "[encoded data removed]",
      "text/plain": [
       "<Figure size 432x288 with 1 Axes>"
      ]
     },
     "metadata": {
      "needs_background": "light"
     },
     "output_type": "display_data"
    }
   ],
   "source": [
    "# top 10 sites that I visisted\n",
    "df['domain'].value_counts()[:10].plot(kind='bar')"
   ]
  },
  {
   "cell_type": "code",
   "execution_count": 11,
   "metadata": {},
   "outputs": [
    {
     "data": {
      "text/plain": [
       "Time\n",
       "0     266\n",
       "1     127\n",
       "8       4\n",
       "9     116\n",
       "10    272\n",
       "11    399\n",
       "12    126\n",
       "13    152\n",
       "14    137\n",
       "15    188\n",
       "16    394\n",
       "17    260\n",
       "18    185\n",
       "19    189\n",
       "20    260\n",
       "21     54\n",
       "22    273\n",
       "23    305\n",
       "Name: domain, dtype: int64"
      ]
     },
     "execution_count": 11,
     "metadata": {},
     "output_type": "execute_result"
    }
   ],
   "source": [
    "hourly_counts = df.groupby(df.Time.dt.hour).domain.size()\n",
    "hourly_counts"
   ]
  },
  {
   "cell_type": "code",
   "execution_count": 12,
   "metadata": {},
   "outputs": [
    {
     "data": {
      "text/plain": [
       "<AxesSubplot:xlabel='Time'>"
      ]
     },
     "execution_count": 12,
     "metadata": {},
     "output_type": "execute_result"
    },
    {
     "data": {
      "image/png": "[encoded data removed]",
      "text/plain": [
       "<Figure size 432x288 with 1 Axes>"
      ]
     },
     "metadata": {
      "needs_background": "light"
     },
     "output_type": "display_data"
    }
   ],
   "source": [
    "hourly_counts.plot.bar()"
   ]
  },
  {
   "cell_type": "code",
   "execution_count": 13,
   "metadata": {},
   "outputs": [
    {
     "data": {
      "text/html": [
       "<div>\n",
       "<style scoped>\n",
       "    .dataframe tbody tr th:only-of-type {\n",
       "        vertical-align: middle;\n",
       "    }\n",
       "\n",
       "    .dataframe tbody tr th {\n",
       "        vertical-align: top;\n",
       "    }\n",
       "\n",
       "    .dataframe thead th {\n",
       "        text-align: right;\n",
       "    }\n",
       "</style>\n",
       "<table border=\"1\" class=\"dataframe\">\n",
       "  <thead>\n",
       "    <tr style=\"text-align: right;\">\n",
       "      <th></th>\n",
       "      <th>Time</th>\n",
       "      <th>domain</th>\n",
       "      <th>Day</th>\n",
       "      <th>DayIndex</th>\n",
       "    </tr>\n",
       "  </thead>\n",
       "  <tbody>\n",
       "    <tr>\n",
       "      <th>0</th>\n",
       "      <td>2021-02-19 00:11:00</td>\n",
       "      <td>github.com</td>\n",
       "      <td>Friday</td>\n",
       "      <td>4</td>\n",
       "    </tr>\n",
       "    <tr>\n",
       "      <th>1</th>\n",
       "      <td>2021-02-19 00:11:00</td>\n",
       "      <td>github.com</td>\n",
       "      <td>Friday</td>\n",
       "      <td>4</td>\n",
       "    </tr>\n",
       "    <tr>\n",
       "      <th>2</th>\n",
       "      <td>2021-02-19 00:10:00</td>\n",
       "      <td>github.com</td>\n",
       "      <td>Friday</td>\n",
       "      <td>4</td>\n",
       "    </tr>\n",
       "    <tr>\n",
       "      <th>3</th>\n",
       "      <td>2021-02-19 00:09:00</td>\n",
       "      <td>github.com</td>\n",
       "      <td>Friday</td>\n",
       "      <td>4</td>\n",
       "    </tr>\n",
       "    <tr>\n",
       "      <th>4</th>\n",
       "      <td>2021-02-19 00:08:00</td>\n",
       "      <td>github.com</td>\n",
       "      <td>Friday</td>\n",
       "      <td>4</td>\n",
       "    </tr>\n",
       "  </tbody>\n",
       "</table>\n",
       "</div>"
      ],
      "text/plain": [
       "                 Time      domain     Day  DayIndex\n",
       "0 2021-02-19 00:11:00  github.com  Friday         4\n",
       "1 2021-02-19 00:11:00  github.com  Friday         4\n",
       "2 2021-02-19 00:10:00  github.com  Friday         4\n",
       "3 2021-02-19 00:09:00  github.com  Friday         4\n",
       "4 2021-02-19 00:08:00  github.com  Friday         4"
      ]
     },
     "execution_count": 13,
     "metadata": {},
     "output_type": "execute_result"
    }
   ],
   "source": [
    "df['Day'] = [ d.day_name() for d in df['Time']]\n",
    "df['DayIndex'] = [ d.dayofweek for d in df['Time']]\n",
    "df.head()"
   ]
  },
  {
   "cell_type": "code",
   "execution_count": 14,
   "metadata": {},
   "outputs": [
    {
     "data": {
      "text/plain": [
       "Thursday     709\n",
       "Tuesday      661\n",
       "Monday       587\n",
       "Friday       569\n",
       "Saturday     471\n",
       "Wednesday    419\n",
       "Sunday       291\n",
       "Name: Day, dtype: int64"
      ]
     },
     "execution_count": 14,
     "metadata": {},
     "output_type": "execute_result"
    }
   ],
   "source": [
    "df['Day'].value_counts()"
   ]
  },
  {
   "cell_type": "code",
   "execution_count": 15,
   "metadata": {},
   "outputs": [
    {
     "data": {
      "text/plain": [
       "0    587\n",
       "1    661\n",
       "2    419\n",
       "3    709\n",
       "4    569\n",
       "5    471\n",
       "6    291\n",
       "Name: DayIndex, dtype: int64"
      ]
     },
     "execution_count": 15,
     "metadata": {},
     "output_type": "execute_result"
    }
   ],
   "source": [
    "days_sorted = df['DayIndex'].value_counts().sort_index()\n",
    "days_sorted"
   ]
  },
  {
   "cell_type": "code",
   "execution_count": 16,
   "metadata": {},
   "outputs": [
    {
     "data": {
      "image/png": "[encoded data removed]",
      "text/plain": [
       "<Figure size 432x288 with 1 Axes>"
      ]
     },
     "metadata": {
      "needs_background": "light"
     },
     "output_type": "display_data"
    }
   ],
   "source": [
    "days_sorted.plot.bar()\n",
    "plt.xticks(days_sorted.index, ['Su','M', 'T', 'W','Th', 'F', 'Sa'], rotation=0)\n",
    "\n",
    "plt.show()"
   ]
  },
  {
   "cell_type": "code",
   "execution_count": 17,
   "metadata": {},
   "outputs": [
    {
     "data": {
      "text/html": [
       "<div>\n",
       "<style scoped>\n",
       "    .dataframe tbody tr th:only-of-type {\n",
       "        vertical-align: middle;\n",
       "    }\n",
       "\n",
       "    .dataframe tbody tr th {\n",
       "        vertical-align: top;\n",
       "    }\n",
       "\n",
       "    .dataframe thead th {\n",
       "        text-align: right;\n",
       "    }\n",
       "</style>\n",
       "<table border=\"1\" class=\"dataframe\">\n",
       "  <thead>\n",
       "    <tr style=\"text-align: right;\">\n",
       "      <th></th>\n",
       "      <th>Time</th>\n",
       "      <th>domain</th>\n",
       "      <th>Day</th>\n",
       "      <th>DayIndex</th>\n",
       "      <th>isWeekend</th>\n",
       "    </tr>\n",
       "  </thead>\n",
       "  <tbody>\n",
       "    <tr>\n",
       "      <th>0</th>\n",
       "      <td>2021-02-19 00:11:00</td>\n",
       "      <td>github.com</td>\n",
       "      <td>Friday</td>\n",
       "      <td>4</td>\n",
       "      <td>False</td>\n",
       "    </tr>\n",
       "    <tr>\n",
       "      <th>1</th>\n",
       "      <td>2021-02-19 00:11:00</td>\n",
       "      <td>github.com</td>\n",
       "      <td>Friday</td>\n",
       "      <td>4</td>\n",
       "      <td>False</td>\n",
       "    </tr>\n",
       "    <tr>\n",
       "      <th>2</th>\n",
       "      <td>2021-02-19 00:10:00</td>\n",
       "      <td>github.com</td>\n",
       "      <td>Friday</td>\n",
       "      <td>4</td>\n",
       "      <td>False</td>\n",
       "    </tr>\n",
       "    <tr>\n",
       "      <th>3</th>\n",
       "      <td>2021-02-19 00:09:00</td>\n",
       "      <td>github.com</td>\n",
       "      <td>Friday</td>\n",
       "      <td>4</td>\n",
       "      <td>False</td>\n",
       "    </tr>\n",
       "    <tr>\n",
       "      <th>4</th>\n",
       "      <td>2021-02-19 00:08:00</td>\n",
       "      <td>github.com</td>\n",
       "      <td>Friday</td>\n",
       "      <td>4</td>\n",
       "      <td>False</td>\n",
       "    </tr>\n",
       "  </tbody>\n",
       "</table>\n",
       "</div>"
      ],
      "text/plain": [
       "                 Time      domain     Day  DayIndex  isWeekend\n",
       "0 2021-02-19 00:11:00  github.com  Friday         4      False\n",
       "1 2021-02-19 00:11:00  github.com  Friday         4      False\n",
       "2 2021-02-19 00:10:00  github.com  Friday         4      False\n",
       "3 2021-02-19 00:09:00  github.com  Friday         4      False\n",
       "4 2021-02-19 00:08:00  github.com  Friday         4      False"
      ]
     },
     "execution_count": 17,
     "metadata": {},
     "output_type": "execute_result"
    }
   ],
   "source": [
    "def is_weekend(day): \n",
    "    return day in ['Saturday', 'Sunday']\n",
    "\n",
    "\n",
    "df['isWeekend'] = [ is_weekend(i) for i in df['Day']]\n",
    "df.head()"
   ]
  },
  {
   "cell_type": "code",
   "execution_count": 18,
   "metadata": {},
   "outputs": [],
   "source": [
    "weekend = df[ df['isWeekend'] == True ]\n",
    "\n",
    "weekday = df[ df['isWeekend'] == False ]"
   ]
  },
  {
   "cell_type": "code",
   "execution_count": 19,
   "metadata": {},
   "outputs": [
    {
     "data": {
      "text/html": [
       "<div>\n",
       "<style scoped>\n",
       "    .dataframe tbody tr th:only-of-type {\n",
       "        vertical-align: middle;\n",
       "    }\n",
       "\n",
       "    .dataframe tbody tr th {\n",
       "        vertical-align: top;\n",
       "    }\n",
       "\n",
       "    .dataframe thead th {\n",
       "        text-align: right;\n",
       "    }\n",
       "</style>\n",
       "<table border=\"1\" class=\"dataframe\">\n",
       "  <thead>\n",
       "    <tr style=\"text-align: right;\">\n",
       "      <th></th>\n",
       "      <th>Time</th>\n",
       "      <th>domain</th>\n",
       "      <th>Day</th>\n",
       "      <th>DayIndex</th>\n",
       "      <th>isWeekend</th>\n",
       "    </tr>\n",
       "  </thead>\n",
       "  <tbody>\n",
       "    <tr>\n",
       "      <th>735</th>\n",
       "      <td>2021-02-14 23:48:00</td>\n",
       "      <td>www.amazon.com</td>\n",
       "      <td>Sunday</td>\n",
       "      <td>6</td>\n",
       "      <td>True</td>\n",
       "    </tr>\n",
       "    <tr>\n",
       "      <th>736</th>\n",
       "      <td>2021-02-14 23:48:00</td>\n",
       "      <td>www.amazon.com</td>\n",
       "      <td>Sunday</td>\n",
       "      <td>6</td>\n",
       "      <td>True</td>\n",
       "    </tr>\n",
       "    <tr>\n",
       "      <th>737</th>\n",
       "      <td>2021-02-14 23:48:00</td>\n",
       "      <td>www.amazon.com</td>\n",
       "      <td>Sunday</td>\n",
       "      <td>6</td>\n",
       "      <td>True</td>\n",
       "    </tr>\n",
       "    <tr>\n",
       "      <th>738</th>\n",
       "      <td>2021-02-14 23:47:00</td>\n",
       "      <td>www.amazon.com</td>\n",
       "      <td>Sunday</td>\n",
       "      <td>6</td>\n",
       "      <td>True</td>\n",
       "    </tr>\n",
       "    <tr>\n",
       "      <th>739</th>\n",
       "      <td>2021-02-14 23:41:00</td>\n",
       "      <td>docs.google.com</td>\n",
       "      <td>Sunday</td>\n",
       "      <td>6</td>\n",
       "      <td>True</td>\n",
       "    </tr>\n",
       "  </tbody>\n",
       "</table>\n",
       "</div>"
      ],
      "text/plain": [
       "                   Time           domain     Day  DayIndex  isWeekend\n",
       "735 2021-02-14 23:48:00   www.amazon.com  Sunday         6       True\n",
       "736 2021-02-14 23:48:00   www.amazon.com  Sunday         6       True\n",
       "737 2021-02-14 23:48:00   www.amazon.com  Sunday         6       True\n",
       "738 2021-02-14 23:47:00   www.amazon.com  Sunday         6       True\n",
       "739 2021-02-14 23:41:00  docs.google.com  Sunday         6       True"
      ]
     },
     "execution_count": 19,
     "metadata": {},
     "output_type": "execute_result"
    }
   ],
   "source": [
    "weekend.head()"
   ]
  },
  {
   "cell_type": "code",
   "execution_count": 20,
   "metadata": {},
   "outputs": [
    {
     "data": {
      "text/plain": [
       "www.google.com       439\n",
       "www.instagram.com    248\n",
       "stackoverflow.com    161\n",
       "www.youtube.com      161\n",
       "www.amazon.com       144\n",
       "Name: domain, dtype: int64"
      ]
     },
     "execution_count": 20,
     "metadata": {},
     "output_type": "execute_result"
    }
   ],
   "source": [
    "weekday['domain'].value_counts()[:5]"
   ]
  },
  {
   "cell_type": "code",
   "execution_count": 21,
   "metadata": {},
   "outputs": [
    {
     "data": {
      "text/plain": [
       "www.google.com       177\n",
       "www.instagram.com    146\n",
       "stackoverflow.com     84\n",
       "www.youtube.com       36\n",
       "github.com            32\n",
       "Name: domain, dtype: int64"
      ]
     },
     "execution_count": 21,
     "metadata": {},
     "output_type": "execute_result"
    }
   ],
   "source": [
    "weekend['domain'].value_counts()[:5]"
   ]
  },
  {
   "cell_type": "code",
   "execution_count": 22,
   "metadata": {},
   "outputs": [
    {
     "data": {
      "image/png": "[encoded data removed]",
      "text/plain": [
       "<Figure size 432x288 with 1 Axes>"
      ]
     },
     "metadata": {
      "needs_background": "light"
     },
     "output_type": "display_data"
    }
   ],
   "source": [
    "def show_stats(df, color, alpha=1):\n",
    "    hourly_counts = df.groupby(df.Time.dt.hour).domain.size()\n",
    "    \n",
    "    # fill in the missing hours\n",
    "    for h in range(24):\n",
    "        if h not in hourly_counts:\n",
    "            hourly_counts[h]=0 # I initially didn't do this and hours were not lining up\n",
    "            \n",
    "    hourly_counts.sort_index().plot.bar(color=color, alpha=alpha)\n",
    "    plt.ylim([0, 175])\n",
    "\n",
    "    \n",
    "show_stats(weekend, 'red', 1)\n",
    "    \n",
    "show_stats(weekday, 'blue', 0.5)"
   ]
  },
  {
   "cell_type": "code",
   "execution_count": 23,
   "metadata": {},
   "outputs": [],
   "source": [
    "# be skeptical about your data!\n",
    "# am I on computer a lot more on the weekdays \n",
    "# or it shows more simply becasue there are more weekdays"
   ]
  },
  {
   "cell_type": "code",
   "execution_count": 24,
   "metadata": {},
   "outputs": [
    {
     "data": {
      "image/png": "[encoded data removed]",
      "text/plain": [
       "<Figure size 432x288 with 1 Axes>"
      ]
     },
     "metadata": {
      "needs_background": "light"
     },
     "output_type": "display_data"
    },
    {
     "data": {
      "image/png": "[encoded data removed]",
      "text/plain": [
       "<Figure size 432x288 with 1 Axes>"
      ]
     },
     "metadata": {
      "needs_background": "light"
     },
     "output_type": "display_data"
    }
   ],
   "source": [
    "def show_stats(df, color, alpha=1, title='', y_lim = None):\n",
    "    hourly_counts = df.groupby(df.Time.dt.hour).domain.size()\n",
    "    \n",
    "    days_counts = df.Time.dt.date.nunique()\n",
    "    \n",
    "    # fill in the missing hours\n",
    "    for h in range(24):\n",
    "        if h not in hourly_counts:\n",
    "            hourly_counts[h]=0 # I initially didn't do this and hours were not lining up\n",
    "        else: \n",
    "            hourly_counts[h] = hourly_counts[h] * 100.0 /  days_counts # I multiplied by 100.0 to make it float and also not to loose decimals\n",
    "            \n",
    "    hourly_counts.sort_index().plot.bar(color=color, alpha=alpha, title=title)\n",
    "    \n",
    "    if y_lim != None:\n",
    "        plt.ylim(y_lim)\n",
    "    plt.show()\n",
    "\n",
    "\n",
    "    \n",
    "y_lim=[0, 2200]\n",
    "show_stats(weekend, 'red', 1, 'Weekend', y_lim=y_lim)\n",
    "    \n",
    "show_stats(weekday, 'blue', 0.5, 'Weekday', y_lim=y_lim)"
   ]
  },
  {
   "cell_type": "code",
   "execution_count": 25,
   "metadata": {},
   "outputs": [
    {
     "data": {
      "text/plain": [
       "www.google.com                       616\n",
       "www.instagram.com                    394\n",
       "stackoverflow.com                    245\n",
       "www.youtube.com                      197\n",
       "www.amazon.com                       148\n",
       "mail.google.com                      145\n",
       "blackboard.umbc.edu                  122\n",
       "colab.research.google.com            117\n",
       "github.com                           105\n",
       "webauth.umbc.edu                      99\n",
       "piazza.com                            73\n",
       "docs.google.com                       67\n",
       "lucid.app                             58\n",
       "www.hackerrank.com                    53\n",
       "www.geeksforgeeks.org                 51\n",
       "drive.google.com                      39\n",
       "www.kaggle.com                        29\n",
       "accounts.google.com                   29\n",
       "umbc.app.box.com                      26\n",
       "www.facebook.com                      23\n",
       "retail.onlinesbi.com                  21\n",
       "archive.ics.uci.edu                   20\n",
       "towardsdatascience.com                18\n",
       "id.analyticsvidhya.com                17\n",
       "datahack.analyticsvidhya.com          16\n",
       "leetcode.com                          15\n",
       "duckduckgo.com                        15\n",
       "datasetsearch.research.google.com     14\n",
       "gogoanime.sh                          14\n",
       "www.onlinebanking.pnc.com             14\n",
       "app.brazenconnect.com                 14\n",
       "umbc.webex.com                        13\n",
       "hangouts.google.com                   12\n",
       "my3.my.umbc.edu                       12\n",
       "www.primevideo.com                    12\n",
       "umbc.box.com                          12\n",
       "medium.com                            12\n",
       "public.tableau.com                    12\n",
       "www.codegrepper.com                   12\n",
       "onmarshtompor.com                     12\n",
       "umbc-csm.symplicity.com               12\n",
       "www.tutorialspoint.com                12\n",
       "www.xspdf.com                         11\n",
       "my.umbc.edu                           11\n",
       "www.w3resource.com                    11\n",
       "blackclover.fandom.com                11\n",
       "pandas.pydata.org                     10\n",
       "getbitly.com                          10\n",
       "umbc2021springfair.vfairs.com         10\n",
       "docs.microsoft.com                    10\n",
       "Name: domain, dtype: int64"
      ]
     },
     "execution_count": 25,
     "metadata": {},
     "output_type": "execute_result"
    }
   ],
   "source": [
    "df['domain'].value_counts()[:50]"
   ]
  },
  {
   "cell_type": "code",
   "execution_count": null,
   "metadata": {},
   "outputs": [],
   "source": []
  },
  {
   "cell_type": "code",
   "execution_count": 26,
   "metadata": {},
   "outputs": [],
   "source": [
    "df['domain'] = df['domain'].astype(str)"
   ]
  },
  {
   "cell_type": "code",
   "execution_count": 27,
   "metadata": {},
   "outputs": [],
   "source": [
    "def get_data_for_domain(val):\n",
    "    return df[ [True if val.lower() in i.lower() else False for i in df['domain'] ]]\n",
    "\n",
    "\n",
    "def show_domain_stats(domain, color='blue', alpha=1):\n",
    "    data = get_data_for_domain(domain)\n",
    "    show_stats(data, color, alpha)\n",
    "    return data"
   ]
  },
  {
   "cell_type": "code",
   "execution_count": 28,
   "metadata": {},
   "outputs": [
    {
     "data": {
      "image/png": "[encoded data removed]",
      "text/plain": [
       "<Figure size 432x288 with 1 Axes>"
      ]
     },
     "metadata": {
      "needs_background": "light"
     },
     "output_type": "display_data"
    }
   ],
   "source": [
    "_= show_domain_stats('github', 'blue')"
   ]
  },
  {
   "cell_type": "code",
   "execution_count": null,
   "metadata": {},
   "outputs": [],
   "source": []
  },
  {
   "cell_type": "code",
   "execution_count": 29,
   "metadata": {},
   "outputs": [
    {
     "data": {
      "image/png": "[encoded data removed]",
      "text/plain": [
       "<Figure size 432x288 with 1 Axes>"
      ]
     },
     "metadata": {
      "needs_background": "light"
     },
     "output_type": "display_data"
    }
   ],
   "source": [
    "_ = show_domain_stats('stackoverflow', 'magenta')"
   ]
  },
  {
   "cell_type": "code",
   "execution_count": 30,
   "metadata": {},
   "outputs": [
    {
     "data": {
      "image/png": "[encoded data removed]",
      "text/plain": [
       "<Figure size 432x288 with 1 Axes>"
      ]
     },
     "metadata": {
      "needs_background": "light"
     },
     "output_type": "display_data"
    }
   ],
   "source": [
    "_ = show_domain_stats('amazon', 'red')"
   ]
  },
  {
   "cell_type": "code",
   "execution_count": 31,
   "metadata": {},
   "outputs": [
    {
     "data": {
      "image/png": "[encoded data removed]",
      "text/plain": [
       "<Figure size 432x288 with 1 Axes>"
      ]
     },
     "metadata": {
      "needs_background": "light"
     },
     "output_type": "display_data"
    }
   ],
   "source": [
    "_=show_domain_stats('mail', 'black')"
   ]
  },
  {
   "cell_type": "markdown",
   "metadata": {},
   "source": [
    "Based on data, what can we tell about this person?\n",
    "\n",
    "1) Is this a work computer/personal computer? \n",
    "This looks like a personal computer. The most visited website was github, and this individual visited various UMBC sites.\n",
    "This individual is most likely a student.\n",
    "\n",
    "2) Is s/he employed? \n",
    "There don't appear to be any logins to work accounts logins...so\n",
    "probably not, but s/he could be doing some freelance work.\n",
    "\n",
    "3) What is her/his interests?\n",
    "Based upon this data, this person is interested in school, data science/python, facebook, amazon purchases, \n",
    "a bit of online bannking, etc.\n",
    "\n",
    "4) List any interesting findings:\n",
    "Yes! This person seems to need much less sleep than I do. S/he generally showed activity between the hours of 8 or 9 am and 1 am, leaving about 7, max 8 hours for sleep.\n",
    "I need 9 hours. :)\n",
    "I think this person may also be in the DATA 604 course as well, due to his or her usage of the Lucid app."
   ]
  }
 ],
 "metadata": {
  "kernelspec": {
   "display_name": "Python 3",
   "language": "python",
   "name": "python3"
  },
  "language_info": {
   "codemirror_mode": {
    "name": "ipython",
    "version": 3
   },
   "file_extension": ".py",
   "mimetype": "text/x-python",
   "name": "python",
   "nbconvert_exporter": "python",
   "pygments_lexer": "ipython3",
   "version": "3.8.5"
  }
 },
 "nbformat": 4,
 "nbformat_minor": 4
}
